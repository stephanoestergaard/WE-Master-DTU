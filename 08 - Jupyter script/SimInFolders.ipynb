{
 "cells": [
  {
   "cell_type": "code",
   "execution_count": 1,
   "metadata": {},
   "outputs": [],
   "source": [
    "####################################\n",
    "# Special code for Jupyter Notebook\n",
    "####################################\n",
    "# Show plots in the notebook\n",
    "\n",
    "#%matplotlib inline \n",
    "%matplotlib notebook \n",
    "\n",
    "\n",
    "\n",
    "# Automatically reload any packages that changed\n",
    "#%load_ext autoreload\n",
    "#%autoreload 2\n",
    "\n",
    "# Display multiple arguments\n",
    "from IPython.core.interactiveshell import InteractiveShell \n",
    "InteractiveShell.ast_node_interactivity = \"all\"\n",
    "\n",
    "##################\n",
    "# Import librarys\n",
    "##################\n",
    "# Third party libraries\n",
    "\n",
    "import os\n",
    "import re\n",
    "import sys\n",
    "import glob\n",
    "import shutil\n",
    "import multiprocess\n",
    "import pandas as pd\n",
    "import numpy as np\n",
    "import pprint\n",
    "import statistics as stat\n",
    "import scipy as sp\n",
    "import matplotlib.pyplot as plt\n",
    "import plotly.graph_objects as go\n",
    "from plotly.subplots import make_subplots\n",
    "\n",
    "import rainflow\n",
    "import OrcFxAPI\n",
    "\n",
    "\n",
    "# Python libraries\n",
    "module_path = r\"C:\\Users\\snod\\OneDrive\\CloudStation\\DTU\\Master in Wind Energy\\06 - Master Thesis\\19 - python modules\"\n",
    "sys.path.append(module_path)\n",
    "\n",
    "import stephan_py as st\n",
    "import pywasp_edu as pw\n",
    "\n",
    "\n",
    "############################################\n",
    "# Limit number of rows to print from Pandas\n",
    "############################################\n",
    "pd.options.display.max_rows = 40\n",
    "\n",
    "pi = np.arccos(-1)\n",
    "\n",
    "#plt.rcParams['figure.figsize'] = [300, 200]\n",
    "\n",
    "# Used in order to embed figures in the text\n",
    "from IPython.display import Image  "
   ]
  },
  {
   "cell_type": "markdown",
   "metadata": {},
   "source": [
    "# Run sims in individual folders\n",
    "\n"
   ]
  },
  {
   "cell_type": "code",
   "execution_count": 2,
   "metadata": {},
   "outputs": [
    {
     "name": "stdout",
     "output_type": "stream",
     "text": [
      "00001_w(Irreg_DIR000_Hs6.3_Tp11.5_U04_SEED10001)_W(NTM_U4.0_SEED10001).dat\n",
      "D:\\100 - Project files\\02 - Orcaflex Runs\\301 - IPC floating set 2 gain -20 sat 5deg\n",
      "00002_w(Irreg_DIR000_Hs6.3_Tp11.5_U04_SEED10002)_W(NTM_U4.0_SEED10002).dat\n",
      "D:\\100 - Project files\\02 - Orcaflex Runs\\301 - IPC floating set 2 gain -20 sat 5deg\n",
      "00003_w(Irreg_DIR000_Hs6.3_Tp11.5_U04_SEED10003)_W(NTM_U4.0_SEED10003).dat\n",
      "D:\\100 - Project files\\02 - Orcaflex Runs\\301 - IPC floating set 2 gain -20 sat 5deg\n",
      "00004_w(Irreg_DIR000_Hs6.3_Tp11.5_U04_SEED10004)_W(NTM_U4.0_SEED10004).dat\n",
      "D:\\100 - Project files\\02 - Orcaflex Runs\\301 - IPC floating set 2 gain -20 sat 5deg\n",
      "00005_w(Irreg_DIR000_Hs6.3_Tp11.5_U04_SEED10005)_W(NTM_U4.0_SEED10005).dat\n",
      "D:\\100 - Project files\\02 - Orcaflex Runs\\301 - IPC floating set 2 gain -20 sat 5deg\n",
      "00006_w(Irreg_DIR000_Hs6.3_Tp11.5_U04_SEED10006)_W(NTM_U4.0_SEED10006).dat\n",
      "D:\\100 - Project files\\02 - Orcaflex Runs\\301 - IPC floating set 2 gain -20 sat 5deg\n",
      "00007_w(Irreg_DIR000_Hs8.0_Tp12.7_U06_SEED10001)_W(NTM_U6.0_SEED10001).dat\n",
      "D:\\100 - Project files\\02 - Orcaflex Runs\\301 - IPC floating set 2 gain -20 sat 5deg\n",
      "00008_w(Irreg_DIR000_Hs8.0_Tp12.7_U06_SEED10002)_W(NTM_U6.0_SEED10002).dat\n",
      "D:\\100 - Project files\\02 - Orcaflex Runs\\301 - IPC floating set 2 gain -20 sat 5deg\n",
      "00009_w(Irreg_DIR000_Hs8.0_Tp12.7_U06_SEED10003)_W(NTM_U6.0_SEED10003).dat\n",
      "D:\\100 - Project files\\02 - Orcaflex Runs\\301 - IPC floating set 2 gain -20 sat 5deg\n",
      "00010_w(Irreg_DIR000_Hs8.0_Tp12.7_U06_SEED10004)_W(NTM_U6.0_SEED10004).dat\n",
      "D:\\100 - Project files\\02 - Orcaflex Runs\\301 - IPC floating set 2 gain -20 sat 5deg\n",
      "00011_w(Irreg_DIR000_Hs8.0_Tp12.7_U06_SEED10005)_W(NTM_U6.0_SEED10005).dat\n",
      "D:\\100 - Project files\\02 - Orcaflex Runs\\301 - IPC floating set 2 gain -20 sat 5deg\n",
      "00012_w(Irreg_DIR000_Hs8.0_Tp12.7_U06_SEED10006)_W(NTM_U6.0_SEED10006).dat\n",
      "D:\\100 - Project files\\02 - Orcaflex Runs\\301 - IPC floating set 2 gain -20 sat 5deg\n",
      "00013_w(Irreg_DIR000_Hs8.0_Tp12.7_U08_SEED10001)_W(NTM_U8.0_SEED10001).dat\n",
      "D:\\100 - Project files\\02 - Orcaflex Runs\\301 - IPC floating set 2 gain -20 sat 5deg\n",
      "00014_w(Irreg_DIR000_Hs8.0_Tp12.7_U08_SEED10002)_W(NTM_U8.0_SEED10002).dat\n",
      "D:\\100 - Project files\\02 - Orcaflex Runs\\301 - IPC floating set 2 gain -20 sat 5deg\n",
      "00015_w(Irreg_DIR000_Hs8.0_Tp12.7_U08_SEED10003)_W(NTM_U8.0_SEED10003).dat\n",
      "D:\\100 - Project files\\02 - Orcaflex Runs\\301 - IPC floating set 2 gain -20 sat 5deg\n",
      "00016_w(Irreg_DIR000_Hs8.0_Tp12.7_U08_SEED10004)_W(NTM_U8.0_SEED10004).dat\n",
      "D:\\100 - Project files\\02 - Orcaflex Runs\\301 - IPC floating set 2 gain -20 sat 5deg\n",
      "00017_w(Irreg_DIR000_Hs8.0_Tp12.7_U08_SEED10005)_W(NTM_U8.0_SEED10005).dat\n",
      "D:\\100 - Project files\\02 - Orcaflex Runs\\301 - IPC floating set 2 gain -20 sat 5deg\n",
      "00018_w(Irreg_DIR000_Hs8.0_Tp12.7_U08_SEED10006)_W(NTM_U8.0_SEED10006).dat\n",
      "D:\\100 - Project files\\02 - Orcaflex Runs\\301 - IPC floating set 2 gain -20 sat 5deg\n",
      "00019_w(Irreg_DIR000_Hs8.1_Tp12.8_U10_SEED10001)_W(NTM_U10.0_SEED10001).dat\n",
      "D:\\100 - Project files\\02 - Orcaflex Runs\\301 - IPC floating set 2 gain -20 sat 5deg\n",
      "00020_w(Irreg_DIR000_Hs8.1_Tp12.8_U10_SEED10002)_W(NTM_U10.0_SEED10002).dat\n",
      "D:\\100 - Project files\\02 - Orcaflex Runs\\301 - IPC floating set 2 gain -20 sat 5deg\n",
      "00021_w(Irreg_DIR000_Hs8.1_Tp12.8_U10_SEED10003)_W(NTM_U10.0_SEED10003).dat\n",
      "D:\\100 - Project files\\02 - Orcaflex Runs\\301 - IPC floating set 2 gain -20 sat 5deg\n",
      "00022_w(Irreg_DIR000_Hs8.1_Tp12.8_U10_SEED10004)_W(NTM_U10.0_SEED10004).dat\n",
      "D:\\100 - Project files\\02 - Orcaflex Runs\\301 - IPC floating set 2 gain -20 sat 5deg\n",
      "00023_w(Irreg_DIR000_Hs8.1_Tp12.8_U10_SEED10005)_W(NTM_U10.0_SEED10005).dat\n",
      "D:\\100 - Project files\\02 - Orcaflex Runs\\301 - IPC floating set 2 gain -20 sat 5deg\n",
      "00024_w(Irreg_DIR000_Hs8.1_Tp12.8_U10_SEED10006)_W(NTM_U10.0_SEED10006).dat\n",
      "D:\\100 - Project files\\02 - Orcaflex Runs\\301 - IPC floating set 2 gain -20 sat 5deg\n",
      "00025_w(Irreg_DIR000_Hs8.5_Tp13.1_U12_SEED10001)_W(NTM_U12.0_SEED10001).dat\n",
      "D:\\100 - Project files\\02 - Orcaflex Runs\\301 - IPC floating set 2 gain -20 sat 5deg\n",
      "00026_w(Irreg_DIR000_Hs8.5_Tp13.1_U12_SEED10002)_W(NTM_U12.0_SEED10002).dat\n",
      "D:\\100 - Project files\\02 - Orcaflex Runs\\301 - IPC floating set 2 gain -20 sat 5deg\n",
      "00027_w(Irreg_DIR000_Hs8.5_Tp13.1_U12_SEED10003)_W(NTM_U12.0_SEED10003).dat\n",
      "D:\\100 - Project files\\02 - Orcaflex Runs\\301 - IPC floating set 2 gain -20 sat 5deg\n",
      "00028_w(Irreg_DIR000_Hs8.5_Tp13.1_U12_SEED10004)_W(NTM_U12.0_SEED10004).dat\n",
      "D:\\100 - Project files\\02 - Orcaflex Runs\\301 - IPC floating set 2 gain -20 sat 5deg\n",
      "00029_w(Irreg_DIR000_Hs8.5_Tp13.1_U12_SEED10005)_W(NTM_U12.0_SEED10005).dat\n",
      "D:\\100 - Project files\\02 - Orcaflex Runs\\301 - IPC floating set 2 gain -20 sat 5deg\n",
      "00030_w(Irreg_DIR000_Hs8.5_Tp13.1_U12_SEED10006)_W(NTM_U12.0_SEED10006).dat\n",
      "D:\\100 - Project files\\02 - Orcaflex Runs\\301 - IPC floating set 2 gain -20 sat 5deg\n",
      "00031_w(Irreg_DIR000_Hs8.5_Tp13.1_U14_SEED10001)_W(NTM_U14.0_SEED10001).dat\n",
      "D:\\100 - Project files\\02 - Orcaflex Runs\\301 - IPC floating set 2 gain -20 sat 5deg\n",
      "00032_w(Irreg_DIR000_Hs8.5_Tp13.1_U14_SEED10002)_W(NTM_U14.0_SEED10002).dat\n",
      "D:\\100 - Project files\\02 - Orcaflex Runs\\301 - IPC floating set 2 gain -20 sat 5deg\n",
      "00033_w(Irreg_DIR000_Hs8.5_Tp13.1_U14_SEED10003)_W(NTM_U14.0_SEED10003).dat\n",
      "D:\\100 - Project files\\02 - Orcaflex Runs\\301 - IPC floating set 2 gain -20 sat 5deg\n",
      "00034_w(Irreg_DIR000_Hs8.5_Tp13.1_U14_SEED10004)_W(NTM_U14.0_SEED10004).dat\n",
      "D:\\100 - Project files\\02 - Orcaflex Runs\\301 - IPC floating set 2 gain -20 sat 5deg\n",
      "00035_w(Irreg_DIR000_Hs8.5_Tp13.1_U14_SEED10005)_W(NTM_U14.0_SEED10005).dat\n",
      "D:\\100 - Project files\\02 - Orcaflex Runs\\301 - IPC floating set 2 gain -20 sat 5deg\n",
      "00036_w(Irreg_DIR000_Hs8.5_Tp13.1_U14_SEED10006)_W(NTM_U14.0_SEED10006).dat\n",
      "D:\\100 - Project files\\02 - Orcaflex Runs\\301 - IPC floating set 2 gain -20 sat 5deg\n",
      "00037_w(Irreg_DIR000_Hs9.8_Tp14.1_U16_SEED10001)_W(NTM_U16.0_SEED10001).dat\n",
      "D:\\100 - Project files\\02 - Orcaflex Runs\\301 - IPC floating set 2 gain -20 sat 5deg\n",
      "00038_w(Irreg_DIR000_Hs9.8_Tp14.1_U16_SEED10002)_W(NTM_U16.0_SEED10002).dat\n",
      "D:\\100 - Project files\\02 - Orcaflex Runs\\301 - IPC floating set 2 gain -20 sat 5deg\n",
      "00039_w(Irreg_DIR000_Hs9.8_Tp14.1_U16_SEED10003)_W(NTM_U16.0_SEED10003).dat\n",
      "D:\\100 - Project files\\02 - Orcaflex Runs\\301 - IPC floating set 2 gain -20 sat 5deg\n",
      "00040_w(Irreg_DIR000_Hs9.8_Tp14.1_U16_SEED10004)_W(NTM_U16.0_SEED10004).dat\n",
      "D:\\100 - Project files\\02 - Orcaflex Runs\\301 - IPC floating set 2 gain -20 sat 5deg\n",
      "00041_w(Irreg_DIR000_Hs9.8_Tp14.1_U16_SEED10005)_W(NTM_U16.0_SEED10005).dat\n",
      "D:\\100 - Project files\\02 - Orcaflex Runs\\301 - IPC floating set 2 gain -20 sat 5deg\n",
      "00042_w(Irreg_DIR000_Hs9.8_Tp14.1_U16_SEED10006)_W(NTM_U16.0_SEED10006).dat\n",
      "D:\\100 - Project files\\02 - Orcaflex Runs\\301 - IPC floating set 2 gain -20 sat 5deg\n",
      "00043_w(Irreg_DIR000_Hs9.8_Tp14.1_U18_SEED10001)_W(NTM_U18.0_SEED10001).dat\n",
      "D:\\100 - Project files\\02 - Orcaflex Runs\\301 - IPC floating set 2 gain -20 sat 5deg\n",
      "00044_w(Irreg_DIR000_Hs9.8_Tp14.1_U18_SEED10002)_W(NTM_U18.0_SEED10002).dat\n",
      "D:\\100 - Project files\\02 - Orcaflex Runs\\301 - IPC floating set 2 gain -20 sat 5deg\n",
      "00045_w(Irreg_DIR000_Hs9.8_Tp14.1_U18_SEED10003)_W(NTM_U18.0_SEED10003).dat\n",
      "D:\\100 - Project files\\02 - Orcaflex Runs\\301 - IPC floating set 2 gain -20 sat 5deg\n",
      "00046_w(Irreg_DIR000_Hs9.8_Tp14.1_U18_SEED10004)_W(NTM_U18.0_SEED10004).dat\n",
      "D:\\100 - Project files\\02 - Orcaflex Runs\\301 - IPC floating set 2 gain -20 sat 5deg\n",
      "00047_w(Irreg_DIR000_Hs9.8_Tp14.1_U18_SEED10005)_W(NTM_U18.0_SEED10005).dat\n",
      "D:\\100 - Project files\\02 - Orcaflex Runs\\301 - IPC floating set 2 gain -20 sat 5deg\n",
      "00048_w(Irreg_DIR000_Hs9.8_Tp14.1_U18_SEED10006)_W(NTM_U18.0_SEED10006).dat\n",
      "D:\\100 - Project files\\02 - Orcaflex Runs\\301 - IPC floating set 2 gain -20 sat 5deg\n",
      "00049_w(Irreg_DIR000_Hs9.8_Tp14.1_U20_SEED10001)_W(NTM_U20.0_SEED10001).dat\n",
      "D:\\100 - Project files\\02 - Orcaflex Runs\\301 - IPC floating set 2 gain -20 sat 5deg\n",
      "00050_w(Irreg_DIR000_Hs9.8_Tp14.1_U20_SEED10002)_W(NTM_U20.0_SEED10002).dat\n",
      "D:\\100 - Project files\\02 - Orcaflex Runs\\301 - IPC floating set 2 gain -20 sat 5deg\n",
      "00051_w(Irreg_DIR000_Hs9.8_Tp14.1_U20_SEED10003)_W(NTM_U20.0_SEED10003).dat\n",
      "D:\\100 - Project files\\02 - Orcaflex Runs\\301 - IPC floating set 2 gain -20 sat 5deg\n",
      "00052_w(Irreg_DIR000_Hs9.8_Tp14.1_U20_SEED10004)_W(NTM_U20.0_SEED10004).dat\n",
      "D:\\100 - Project files\\02 - Orcaflex Runs\\301 - IPC floating set 2 gain -20 sat 5deg\n",
      "00053_w(Irreg_DIR000_Hs9.8_Tp14.1_U20_SEED10005)_W(NTM_U20.0_SEED10005).dat\n",
      "D:\\100 - Project files\\02 - Orcaflex Runs\\301 - IPC floating set 2 gain -20 sat 5deg\n",
      "00054_w(Irreg_DIR000_Hs9.8_Tp14.1_U20_SEED10006)_W(NTM_U20.0_SEED10006).dat\n",
      "D:\\100 - Project files\\02 - Orcaflex Runs\\301 - IPC floating set 2 gain -20 sat 5deg\n",
      "00055_w(Irreg_DIR000_Hs9.8_Tp14.1_U22_SEED10001)_W(NTM_U22.0_SEED10001).dat\n",
      "D:\\100 - Project files\\02 - Orcaflex Runs\\301 - IPC floating set 2 gain -20 sat 5deg\n",
      "00056_w(Irreg_DIR000_Hs9.8_Tp14.1_U22_SEED10002)_W(NTM_U22.0_SEED10002).dat\n",
      "D:\\100 - Project files\\02 - Orcaflex Runs\\301 - IPC floating set 2 gain -20 sat 5deg\n",
      "00057_w(Irreg_DIR000_Hs9.8_Tp14.1_U22_SEED10003)_W(NTM_U22.0_SEED10003).dat\n",
      "D:\\100 - Project files\\02 - Orcaflex Runs\\301 - IPC floating set 2 gain -20 sat 5deg\n",
      "00058_w(Irreg_DIR000_Hs9.8_Tp14.1_U22_SEED10004)_W(NTM_U22.0_SEED10004).dat\n",
      "D:\\100 - Project files\\02 - Orcaflex Runs\\301 - IPC floating set 2 gain -20 sat 5deg\n",
      "00059_w(Irreg_DIR000_Hs9.8_Tp14.1_U22_SEED10005)_W(NTM_U22.0_SEED10005).dat\n",
      "D:\\100 - Project files\\02 - Orcaflex Runs\\301 - IPC floating set 2 gain -20 sat 5deg\n",
      "00060_w(Irreg_DIR000_Hs9.8_Tp14.1_U22_SEED10006)_W(NTM_U22.0_SEED10006).dat\n",
      "D:\\100 - Project files\\02 - Orcaflex Runs\\301 - IPC floating set 2 gain -20 sat 5deg\n",
      "00061_w(Irreg_DIR000_Hs9.8_Tp14.1_U24_SEED10001)_W(NTM_U24.0_SEED10001).dat\n",
      "D:\\100 - Project files\\02 - Orcaflex Runs\\301 - IPC floating set 2 gain -20 sat 5deg\n",
      "00062_w(Irreg_DIR000_Hs9.8_Tp14.1_U24_SEED10002)_W(NTM_U24.0_SEED10002).dat\n",
      "D:\\100 - Project files\\02 - Orcaflex Runs\\301 - IPC floating set 2 gain -20 sat 5deg\n",
      "00063_w(Irreg_DIR000_Hs9.8_Tp14.1_U24_SEED10003)_W(NTM_U24.0_SEED10003).dat\n",
      "D:\\100 - Project files\\02 - Orcaflex Runs\\301 - IPC floating set 2 gain -20 sat 5deg\n",
      "00064_w(Irreg_DIR000_Hs9.8_Tp14.1_U24_SEED10004)_W(NTM_U24.0_SEED10004).dat\n",
      "D:\\100 - Project files\\02 - Orcaflex Runs\\301 - IPC floating set 2 gain -20 sat 5deg\n",
      "00065_w(Irreg_DIR000_Hs9.8_Tp14.1_U24_SEED10005)_W(NTM_U24.0_SEED10005).dat\n",
      "D:\\100 - Project files\\02 - Orcaflex Runs\\301 - IPC floating set 2 gain -20 sat 5deg\n",
      "00066_w(Irreg_DIR000_Hs9.8_Tp14.1_U24_SEED10006)_W(NTM_U24.0_SEED10006).dat\n",
      "D:\\100 - Project files\\02 - Orcaflex Runs\\301 - IPC floating set 2 gain -20 sat 5deg\n"
     ]
    }
   ],
   "source": [
    "# Cretate list of simulation files\n",
    "\n",
    "main_folder = r'D:\\100 - Project files\\02 - Orcaflex Runs\\301 - IPC floating set 2 gain -20 sat 5deg'\n",
    "\n",
    "\n",
    "#Create list of *.dat files that starts with 5 digits\n",
    "os.chdir(main_folder)\n",
    "\n",
    "dat_files_list = []\n",
    "folders_list = []\n",
    "\n",
    "for path, subdirs, files in os.walk(main_folder):\n",
    "#for file in glob.glob(\"*.dat\"):\n",
    "    for file in files:\n",
    "        if file.find('.dat') > 0:\n",
    "            if file.find('Base') == -1:\n",
    "                dat_files_list.append(file)\n",
    "                folders_list.append(path)\n",
    "                print(file)\n",
    "                print(path)\n",
    "        \n",
    "dat_files_list = sorted(dat_files_list)\n"
   ]
  },
  {
   "cell_type": "code",
   "execution_count": 3,
   "metadata": {},
   "outputs": [
    {
     "name": "stdout",
     "output_type": "stream",
     "text": [
      "00001_w(Irreg_DIR000_Hs6.3_Tp11.5_U04_SEED10001)_W(NTM_U4.0_SEED10001)\n",
      "00002_w(Irreg_DIR000_Hs6.3_Tp11.5_U04_SEED10002)_W(NTM_U4.0_SEED10002)\n",
      "00003_w(Irreg_DIR000_Hs6.3_Tp11.5_U04_SEED10003)_W(NTM_U4.0_SEED10003)\n",
      "00004_w(Irreg_DIR000_Hs6.3_Tp11.5_U04_SEED10004)_W(NTM_U4.0_SEED10004)\n",
      "00005_w(Irreg_DIR000_Hs6.3_Tp11.5_U04_SEED10005)_W(NTM_U4.0_SEED10005)\n",
      "00006_w(Irreg_DIR000_Hs6.3_Tp11.5_U04_SEED10006)_W(NTM_U4.0_SEED10006)\n",
      "00007_w(Irreg_DIR000_Hs8.0_Tp12.7_U06_SEED10001)_W(NTM_U6.0_SEED10001)\n",
      "00008_w(Irreg_DIR000_Hs8.0_Tp12.7_U06_SEED10002)_W(NTM_U6.0_SEED10002)\n",
      "00009_w(Irreg_DIR000_Hs8.0_Tp12.7_U06_SEED10003)_W(NTM_U6.0_SEED10003)\n",
      "00010_w(Irreg_DIR000_Hs8.0_Tp12.7_U06_SEED10004)_W(NTM_U6.0_SEED10004)\n",
      "00011_w(Irreg_DIR000_Hs8.0_Tp12.7_U06_SEED10005)_W(NTM_U6.0_SEED10005)\n",
      "00012_w(Irreg_DIR000_Hs8.0_Tp12.7_U06_SEED10006)_W(NTM_U6.0_SEED10006)\n",
      "00013_w(Irreg_DIR000_Hs8.0_Tp12.7_U08_SEED10001)_W(NTM_U8.0_SEED10001)\n",
      "00014_w(Irreg_DIR000_Hs8.0_Tp12.7_U08_SEED10002)_W(NTM_U8.0_SEED10002)\n",
      "00015_w(Irreg_DIR000_Hs8.0_Tp12.7_U08_SEED10003)_W(NTM_U8.0_SEED10003)\n",
      "00016_w(Irreg_DIR000_Hs8.0_Tp12.7_U08_SEED10004)_W(NTM_U8.0_SEED10004)\n",
      "00017_w(Irreg_DIR000_Hs8.0_Tp12.7_U08_SEED10005)_W(NTM_U8.0_SEED10005)\n",
      "00018_w(Irreg_DIR000_Hs8.0_Tp12.7_U08_SEED10006)_W(NTM_U8.0_SEED10006)\n",
      "00019_w(Irreg_DIR000_Hs8.1_Tp12.8_U10_SEED10001)_W(NTM_U10.0_SEED10001)\n",
      "00020_w(Irreg_DIR000_Hs8.1_Tp12.8_U10_SEED10002)_W(NTM_U10.0_SEED10002)\n",
      "00021_w(Irreg_DIR000_Hs8.1_Tp12.8_U10_SEED10003)_W(NTM_U10.0_SEED10003)\n",
      "00022_w(Irreg_DIR000_Hs8.1_Tp12.8_U10_SEED10004)_W(NTM_U10.0_SEED10004)\n",
      "00023_w(Irreg_DIR000_Hs8.1_Tp12.8_U10_SEED10005)_W(NTM_U10.0_SEED10005)\n",
      "00024_w(Irreg_DIR000_Hs8.1_Tp12.8_U10_SEED10006)_W(NTM_U10.0_SEED10006)\n",
      "00025_w(Irreg_DIR000_Hs8.5_Tp13.1_U12_SEED10001)_W(NTM_U12.0_SEED10001)\n",
      "00026_w(Irreg_DIR000_Hs8.5_Tp13.1_U12_SEED10002)_W(NTM_U12.0_SEED10002)\n",
      "00027_w(Irreg_DIR000_Hs8.5_Tp13.1_U12_SEED10003)_W(NTM_U12.0_SEED10003)\n",
      "00028_w(Irreg_DIR000_Hs8.5_Tp13.1_U12_SEED10004)_W(NTM_U12.0_SEED10004)\n",
      "00029_w(Irreg_DIR000_Hs8.5_Tp13.1_U12_SEED10005)_W(NTM_U12.0_SEED10005)\n",
      "00030_w(Irreg_DIR000_Hs8.5_Tp13.1_U12_SEED10006)_W(NTM_U12.0_SEED10006)\n",
      "00031_w(Irreg_DIR000_Hs8.5_Tp13.1_U14_SEED10001)_W(NTM_U14.0_SEED10001)\n",
      "00032_w(Irreg_DIR000_Hs8.5_Tp13.1_U14_SEED10002)_W(NTM_U14.0_SEED10002)\n",
      "00033_w(Irreg_DIR000_Hs8.5_Tp13.1_U14_SEED10003)_W(NTM_U14.0_SEED10003)\n",
      "00034_w(Irreg_DIR000_Hs8.5_Tp13.1_U14_SEED10004)_W(NTM_U14.0_SEED10004)\n",
      "00035_w(Irreg_DIR000_Hs8.5_Tp13.1_U14_SEED10005)_W(NTM_U14.0_SEED10005)\n",
      "00036_w(Irreg_DIR000_Hs8.5_Tp13.1_U14_SEED10006)_W(NTM_U14.0_SEED10006)\n",
      "00037_w(Irreg_DIR000_Hs9.8_Tp14.1_U16_SEED10001)_W(NTM_U16.0_SEED10001)\n",
      "00038_w(Irreg_DIR000_Hs9.8_Tp14.1_U16_SEED10002)_W(NTM_U16.0_SEED10002)\n",
      "00039_w(Irreg_DIR000_Hs9.8_Tp14.1_U16_SEED10003)_W(NTM_U16.0_SEED10003)\n",
      "00040_w(Irreg_DIR000_Hs9.8_Tp14.1_U16_SEED10004)_W(NTM_U16.0_SEED10004)\n",
      "00041_w(Irreg_DIR000_Hs9.8_Tp14.1_U16_SEED10005)_W(NTM_U16.0_SEED10005)\n",
      "00042_w(Irreg_DIR000_Hs9.8_Tp14.1_U16_SEED10006)_W(NTM_U16.0_SEED10006)\n",
      "00043_w(Irreg_DIR000_Hs9.8_Tp14.1_U18_SEED10001)_W(NTM_U18.0_SEED10001)\n",
      "00044_w(Irreg_DIR000_Hs9.8_Tp14.1_U18_SEED10002)_W(NTM_U18.0_SEED10002)\n",
      "00045_w(Irreg_DIR000_Hs9.8_Tp14.1_U18_SEED10003)_W(NTM_U18.0_SEED10003)\n",
      "00046_w(Irreg_DIR000_Hs9.8_Tp14.1_U18_SEED10004)_W(NTM_U18.0_SEED10004)\n",
      "00047_w(Irreg_DIR000_Hs9.8_Tp14.1_U18_SEED10005)_W(NTM_U18.0_SEED10005)\n",
      "00048_w(Irreg_DIR000_Hs9.8_Tp14.1_U18_SEED10006)_W(NTM_U18.0_SEED10006)\n",
      "00049_w(Irreg_DIR000_Hs9.8_Tp14.1_U20_SEED10001)_W(NTM_U20.0_SEED10001)\n",
      "00050_w(Irreg_DIR000_Hs9.8_Tp14.1_U20_SEED10002)_W(NTM_U20.0_SEED10002)\n",
      "00051_w(Irreg_DIR000_Hs9.8_Tp14.1_U20_SEED10003)_W(NTM_U20.0_SEED10003)\n",
      "00052_w(Irreg_DIR000_Hs9.8_Tp14.1_U20_SEED10004)_W(NTM_U20.0_SEED10004)\n",
      "00053_w(Irreg_DIR000_Hs9.8_Tp14.1_U20_SEED10005)_W(NTM_U20.0_SEED10005)\n",
      "00054_w(Irreg_DIR000_Hs9.8_Tp14.1_U20_SEED10006)_W(NTM_U20.0_SEED10006)\n",
      "00055_w(Irreg_DIR000_Hs9.8_Tp14.1_U22_SEED10001)_W(NTM_U22.0_SEED10001)\n",
      "00056_w(Irreg_DIR000_Hs9.8_Tp14.1_U22_SEED10002)_W(NTM_U22.0_SEED10002)\n",
      "00057_w(Irreg_DIR000_Hs9.8_Tp14.1_U22_SEED10003)_W(NTM_U22.0_SEED10003)\n",
      "00058_w(Irreg_DIR000_Hs9.8_Tp14.1_U22_SEED10004)_W(NTM_U22.0_SEED10004)\n",
      "00059_w(Irreg_DIR000_Hs9.8_Tp14.1_U22_SEED10005)_W(NTM_U22.0_SEED10005)\n",
      "00060_w(Irreg_DIR000_Hs9.8_Tp14.1_U22_SEED10006)_W(NTM_U22.0_SEED10006)\n",
      "00061_w(Irreg_DIR000_Hs9.8_Tp14.1_U24_SEED10001)_W(NTM_U24.0_SEED10001)\n",
      "00062_w(Irreg_DIR000_Hs9.8_Tp14.1_U24_SEED10002)_W(NTM_U24.0_SEED10002)\n",
      "00063_w(Irreg_DIR000_Hs9.8_Tp14.1_U24_SEED10003)_W(NTM_U24.0_SEED10003)\n",
      "00064_w(Irreg_DIR000_Hs9.8_Tp14.1_U24_SEED10004)_W(NTM_U24.0_SEED10004)\n",
      "00065_w(Irreg_DIR000_Hs9.8_Tp14.1_U24_SEED10005)_W(NTM_U24.0_SEED10005)\n",
      "00066_w(Irreg_DIR000_Hs9.8_Tp14.1_U24_SEED10006)_W(NTM_U24.0_SEED10006)\n"
     ]
    }
   ],
   "source": [
    "# Create folders for calculation\n",
    "\n",
    "for dat_file in dat_files_list:\n",
    "    \n",
    "    folder_name =  os.path.splitext(dat_file)[0]\n",
    "    \n",
    "    print(folder_name)\n",
    "    if not os.path.exists(folder_name):\n",
    "        os.mkdir(folder_name)\n",
    "    \n",
    "\n",
    "\n"
   ]
  },
  {
   "cell_type": "code",
   "execution_count": 7,
   "metadata": {},
   "outputs": [
    {
     "data": {
      "text/plain": [
       "'00001_w(Irreg_DIR000_Hs6.3_Tp11.5_U04_SEED10001)_W(NTM_U4.0_SEED10001)\\\\BladedControllerWrapper_20210627.py'"
      ]
     },
     "execution_count": 7,
     "metadata": {},
     "output_type": "execute_result"
    },
    {
     "data": {
      "text/plain": [
       "'00001_w(Irreg_DIR000_Hs6.3_Tp11.5_U04_SEED10001)_W(NTM_U4.0_SEED10001)\\\\Cp_Ct_Cq.IEA15MW.txt'"
      ]
     },
     "execution_count": 7,
     "metadata": {},
     "output_type": "execute_result"
    },
    {
     "data": {
      "text/plain": [
       "'00001_w(Irreg_DIR000_Hs6.3_Tp11.5_U04_SEED10001)_W(NTM_U4.0_SEED10001)\\\\DISCON-UMaineSemi.IN'"
      ]
     },
     "execution_count": 7,
     "metadata": {},
     "output_type": "execute_result"
    },
    {
     "data": {
      "text/plain": [
       "'00001_w(Irreg_DIR000_Hs6.3_Tp11.5_U04_SEED10001)_W(NTM_U4.0_SEED10001)\\\\Floater_20210215_1.GDF'"
      ]
     },
     "execution_count": 7,
     "metadata": {},
     "output_type": "execute_result"
    },
    {
     "data": {
      "text/plain": [
       "'00001_w(Irreg_DIR000_Hs6.3_Tp11.5_U04_SEED10001)_W(NTM_U4.0_SEED10001)\\\\libdiscon.dll'"
      ]
     },
     "execution_count": 7,
     "metadata": {},
     "output_type": "execute_result"
    },
    {
     "data": {
      "text/plain": [
       "'00002_w(Irreg_DIR000_Hs6.3_Tp11.5_U04_SEED10002)_W(NTM_U4.0_SEED10002)\\\\BladedControllerWrapper_20210627.py'"
      ]
     },
     "execution_count": 7,
     "metadata": {},
     "output_type": "execute_result"
    },
    {
     "data": {
      "text/plain": [
       "'00002_w(Irreg_DIR000_Hs6.3_Tp11.5_U04_SEED10002)_W(NTM_U4.0_SEED10002)\\\\Cp_Ct_Cq.IEA15MW.txt'"
      ]
     },
     "execution_count": 7,
     "metadata": {},
     "output_type": "execute_result"
    },
    {
     "data": {
      "text/plain": [
       "'00002_w(Irreg_DIR000_Hs6.3_Tp11.5_U04_SEED10002)_W(NTM_U4.0_SEED10002)\\\\DISCON-UMaineSemi.IN'"
      ]
     },
     "execution_count": 7,
     "metadata": {},
     "output_type": "execute_result"
    },
    {
     "data": {
      "text/plain": [
       "'00002_w(Irreg_DIR000_Hs6.3_Tp11.5_U04_SEED10002)_W(NTM_U4.0_SEED10002)\\\\Floater_20210215_1.GDF'"
      ]
     },
     "execution_count": 7,
     "metadata": {},
     "output_type": "execute_result"
    },
    {
     "data": {
      "text/plain": [
       "'00002_w(Irreg_DIR000_Hs6.3_Tp11.5_U04_SEED10002)_W(NTM_U4.0_SEED10002)\\\\libdiscon.dll'"
      ]
     },
     "execution_count": 7,
     "metadata": {},
     "output_type": "execute_result"
    },
    {
     "data": {
      "text/plain": [
       "'00003_w(Irreg_DIR000_Hs6.3_Tp11.5_U04_SEED10003)_W(NTM_U4.0_SEED10003)\\\\BladedControllerWrapper_20210627.py'"
      ]
     },
     "execution_count": 7,
     "metadata": {},
     "output_type": "execute_result"
    },
    {
     "data": {
      "text/plain": [
       "'00003_w(Irreg_DIR000_Hs6.3_Tp11.5_U04_SEED10003)_W(NTM_U4.0_SEED10003)\\\\Cp_Ct_Cq.IEA15MW.txt'"
      ]
     },
     "execution_count": 7,
     "metadata": {},
     "output_type": "execute_result"
    },
    {
     "data": {
      "text/plain": [
       "'00003_w(Irreg_DIR000_Hs6.3_Tp11.5_U04_SEED10003)_W(NTM_U4.0_SEED10003)\\\\DISCON-UMaineSemi.IN'"
      ]
     },
     "execution_count": 7,
     "metadata": {},
     "output_type": "execute_result"
    },
    {
     "data": {
      "text/plain": [
       "'00003_w(Irreg_DIR000_Hs6.3_Tp11.5_U04_SEED10003)_W(NTM_U4.0_SEED10003)\\\\Floater_20210215_1.GDF'"
      ]
     },
     "execution_count": 7,
     "metadata": {},
     "output_type": "execute_result"
    },
    {
     "data": {
      "text/plain": [
       "'00003_w(Irreg_DIR000_Hs6.3_Tp11.5_U04_SEED10003)_W(NTM_U4.0_SEED10003)\\\\libdiscon.dll'"
      ]
     },
     "execution_count": 7,
     "metadata": {},
     "output_type": "execute_result"
    },
    {
     "data": {
      "text/plain": [
       "'00004_w(Irreg_DIR000_Hs6.3_Tp11.5_U04_SEED10004)_W(NTM_U4.0_SEED10004)\\\\BladedControllerWrapper_20210627.py'"
      ]
     },
     "execution_count": 7,
     "metadata": {},
     "output_type": "execute_result"
    },
    {
     "data": {
      "text/plain": [
       "'00004_w(Irreg_DIR000_Hs6.3_Tp11.5_U04_SEED10004)_W(NTM_U4.0_SEED10004)\\\\Cp_Ct_Cq.IEA15MW.txt'"
      ]
     },
     "execution_count": 7,
     "metadata": {},
     "output_type": "execute_result"
    },
    {
     "data": {
      "text/plain": [
       "'00004_w(Irreg_DIR000_Hs6.3_Tp11.5_U04_SEED10004)_W(NTM_U4.0_SEED10004)\\\\DISCON-UMaineSemi.IN'"
      ]
     },
     "execution_count": 7,
     "metadata": {},
     "output_type": "execute_result"
    },
    {
     "data": {
      "text/plain": [
       "'00004_w(Irreg_DIR000_Hs6.3_Tp11.5_U04_SEED10004)_W(NTM_U4.0_SEED10004)\\\\Floater_20210215_1.GDF'"
      ]
     },
     "execution_count": 7,
     "metadata": {},
     "output_type": "execute_result"
    },
    {
     "data": {
      "text/plain": [
       "'00004_w(Irreg_DIR000_Hs6.3_Tp11.5_U04_SEED10004)_W(NTM_U4.0_SEED10004)\\\\libdiscon.dll'"
      ]
     },
     "execution_count": 7,
     "metadata": {},
     "output_type": "execute_result"
    },
    {
     "data": {
      "text/plain": [
       "'00005_w(Irreg_DIR000_Hs6.3_Tp11.5_U04_SEED10005)_W(NTM_U4.0_SEED10005)\\\\BladedControllerWrapper_20210627.py'"
      ]
     },
     "execution_count": 7,
     "metadata": {},
     "output_type": "execute_result"
    },
    {
     "data": {
      "text/plain": [
       "'00005_w(Irreg_DIR000_Hs6.3_Tp11.5_U04_SEED10005)_W(NTM_U4.0_SEED10005)\\\\Cp_Ct_Cq.IEA15MW.txt'"
      ]
     },
     "execution_count": 7,
     "metadata": {},
     "output_type": "execute_result"
    },
    {
     "data": {
      "text/plain": [
       "'00005_w(Irreg_DIR000_Hs6.3_Tp11.5_U04_SEED10005)_W(NTM_U4.0_SEED10005)\\\\DISCON-UMaineSemi.IN'"
      ]
     },
     "execution_count": 7,
     "metadata": {},
     "output_type": "execute_result"
    },
    {
     "data": {
      "text/plain": [
       "'00005_w(Irreg_DIR000_Hs6.3_Tp11.5_U04_SEED10005)_W(NTM_U4.0_SEED10005)\\\\Floater_20210215_1.GDF'"
      ]
     },
     "execution_count": 7,
     "metadata": {},
     "output_type": "execute_result"
    },
    {
     "data": {
      "text/plain": [
       "'00005_w(Irreg_DIR000_Hs6.3_Tp11.5_U04_SEED10005)_W(NTM_U4.0_SEED10005)\\\\libdiscon.dll'"
      ]
     },
     "execution_count": 7,
     "metadata": {},
     "output_type": "execute_result"
    },
    {
     "data": {
      "text/plain": [
       "'00006_w(Irreg_DIR000_Hs6.3_Tp11.5_U04_SEED10006)_W(NTM_U4.0_SEED10006)\\\\BladedControllerWrapper_20210627.py'"
      ]
     },
     "execution_count": 7,
     "metadata": {},
     "output_type": "execute_result"
    },
    {
     "data": {
      "text/plain": [
       "'00006_w(Irreg_DIR000_Hs6.3_Tp11.5_U04_SEED10006)_W(NTM_U4.0_SEED10006)\\\\Cp_Ct_Cq.IEA15MW.txt'"
      ]
     },
     "execution_count": 7,
     "metadata": {},
     "output_type": "execute_result"
    },
    {
     "data": {
      "text/plain": [
       "'00006_w(Irreg_DIR000_Hs6.3_Tp11.5_U04_SEED10006)_W(NTM_U4.0_SEED10006)\\\\DISCON-UMaineSemi.IN'"
      ]
     },
     "execution_count": 7,
     "metadata": {},
     "output_type": "execute_result"
    },
    {
     "data": {
      "text/plain": [
       "'00006_w(Irreg_DIR000_Hs6.3_Tp11.5_U04_SEED10006)_W(NTM_U4.0_SEED10006)\\\\Floater_20210215_1.GDF'"
      ]
     },
     "execution_count": 7,
     "metadata": {},
     "output_type": "execute_result"
    },
    {
     "data": {
      "text/plain": [
       "'00006_w(Irreg_DIR000_Hs6.3_Tp11.5_U04_SEED10006)_W(NTM_U4.0_SEED10006)\\\\libdiscon.dll'"
      ]
     },
     "execution_count": 7,
     "metadata": {},
     "output_type": "execute_result"
    },
    {
     "data": {
      "text/plain": [
       "'00007_w(Irreg_DIR000_Hs8.0_Tp12.7_U06_SEED10001)_W(NTM_U6.0_SEED10001)\\\\BladedControllerWrapper_20210627.py'"
      ]
     },
     "execution_count": 7,
     "metadata": {},
     "output_type": "execute_result"
    },
    {
     "data": {
      "text/plain": [
       "'00007_w(Irreg_DIR000_Hs8.0_Tp12.7_U06_SEED10001)_W(NTM_U6.0_SEED10001)\\\\Cp_Ct_Cq.IEA15MW.txt'"
      ]
     },
     "execution_count": 7,
     "metadata": {},
     "output_type": "execute_result"
    },
    {
     "data": {
      "text/plain": [
       "'00007_w(Irreg_DIR000_Hs8.0_Tp12.7_U06_SEED10001)_W(NTM_U6.0_SEED10001)\\\\DISCON-UMaineSemi.IN'"
      ]
     },
     "execution_count": 7,
     "metadata": {},
     "output_type": "execute_result"
    },
    {
     "data": {
      "text/plain": [
       "'00007_w(Irreg_DIR000_Hs8.0_Tp12.7_U06_SEED10001)_W(NTM_U6.0_SEED10001)\\\\Floater_20210215_1.GDF'"
      ]
     },
     "execution_count": 7,
     "metadata": {},
     "output_type": "execute_result"
    },
    {
     "data": {
      "text/plain": [
       "'00007_w(Irreg_DIR000_Hs8.0_Tp12.7_U06_SEED10001)_W(NTM_U6.0_SEED10001)\\\\libdiscon.dll'"
      ]
     },
     "execution_count": 7,
     "metadata": {},
     "output_type": "execute_result"
    },
    {
     "data": {
      "text/plain": [
       "'00008_w(Irreg_DIR000_Hs8.0_Tp12.7_U06_SEED10002)_W(NTM_U6.0_SEED10002)\\\\BladedControllerWrapper_20210627.py'"
      ]
     },
     "execution_count": 7,
     "metadata": {},
     "output_type": "execute_result"
    },
    {
     "data": {
      "text/plain": [
       "'00008_w(Irreg_DIR000_Hs8.0_Tp12.7_U06_SEED10002)_W(NTM_U6.0_SEED10002)\\\\Cp_Ct_Cq.IEA15MW.txt'"
      ]
     },
     "execution_count": 7,
     "metadata": {},
     "output_type": "execute_result"
    },
    {
     "data": {
      "text/plain": [
       "'00008_w(Irreg_DIR000_Hs8.0_Tp12.7_U06_SEED10002)_W(NTM_U6.0_SEED10002)\\\\DISCON-UMaineSemi.IN'"
      ]
     },
     "execution_count": 7,
     "metadata": {},
     "output_type": "execute_result"
    },
    {
     "data": {
      "text/plain": [
       "'00008_w(Irreg_DIR000_Hs8.0_Tp12.7_U06_SEED10002)_W(NTM_U6.0_SEED10002)\\\\Floater_20210215_1.GDF'"
      ]
     },
     "execution_count": 7,
     "metadata": {},
     "output_type": "execute_result"
    },
    {
     "data": {
      "text/plain": [
       "'00008_w(Irreg_DIR000_Hs8.0_Tp12.7_U06_SEED10002)_W(NTM_U6.0_SEED10002)\\\\libdiscon.dll'"
      ]
     },
     "execution_count": 7,
     "metadata": {},
     "output_type": "execute_result"
    },
    {
     "data": {
      "text/plain": [
       "'00009_w(Irreg_DIR000_Hs8.0_Tp12.7_U06_SEED10003)_W(NTM_U6.0_SEED10003)\\\\BladedControllerWrapper_20210627.py'"
      ]
     },
     "execution_count": 7,
     "metadata": {},
     "output_type": "execute_result"
    },
    {
     "data": {
      "text/plain": [
       "'00009_w(Irreg_DIR000_Hs8.0_Tp12.7_U06_SEED10003)_W(NTM_U6.0_SEED10003)\\\\Cp_Ct_Cq.IEA15MW.txt'"
      ]
     },
     "execution_count": 7,
     "metadata": {},
     "output_type": "execute_result"
    },
    {
     "data": {
      "text/plain": [
       "'00009_w(Irreg_DIR000_Hs8.0_Tp12.7_U06_SEED10003)_W(NTM_U6.0_SEED10003)\\\\DISCON-UMaineSemi.IN'"
      ]
     },
     "execution_count": 7,
     "metadata": {},
     "output_type": "execute_result"
    },
    {
     "data": {
      "text/plain": [
       "'00009_w(Irreg_DIR000_Hs8.0_Tp12.7_U06_SEED10003)_W(NTM_U6.0_SEED10003)\\\\Floater_20210215_1.GDF'"
      ]
     },
     "execution_count": 7,
     "metadata": {},
     "output_type": "execute_result"
    },
    {
     "data": {
      "text/plain": [
       "'00009_w(Irreg_DIR000_Hs8.0_Tp12.7_U06_SEED10003)_W(NTM_U6.0_SEED10003)\\\\libdiscon.dll'"
      ]
     },
     "execution_count": 7,
     "metadata": {},
     "output_type": "execute_result"
    },
    {
     "data": {
      "text/plain": [
       "'00010_w(Irreg_DIR000_Hs8.0_Tp12.7_U06_SEED10004)_W(NTM_U6.0_SEED10004)\\\\BladedControllerWrapper_20210627.py'"
      ]
     },
     "execution_count": 7,
     "metadata": {},
     "output_type": "execute_result"
    },
    {
     "data": {
      "text/plain": [
       "'00010_w(Irreg_DIR000_Hs8.0_Tp12.7_U06_SEED10004)_W(NTM_U6.0_SEED10004)\\\\Cp_Ct_Cq.IEA15MW.txt'"
      ]
     },
     "execution_count": 7,
     "metadata": {},
     "output_type": "execute_result"
    },
    {
     "data": {
      "text/plain": [
       "'00010_w(Irreg_DIR000_Hs8.0_Tp12.7_U06_SEED10004)_W(NTM_U6.0_SEED10004)\\\\DISCON-UMaineSemi.IN'"
      ]
     },
     "execution_count": 7,
     "metadata": {},
     "output_type": "execute_result"
    },
    {
     "data": {
      "text/plain": [
       "'00010_w(Irreg_DIR000_Hs8.0_Tp12.7_U06_SEED10004)_W(NTM_U6.0_SEED10004)\\\\Floater_20210215_1.GDF'"
      ]
     },
     "execution_count": 7,
     "metadata": {},
     "output_type": "execute_result"
    },
    {
     "data": {
      "text/plain": [
       "'00010_w(Irreg_DIR000_Hs8.0_Tp12.7_U06_SEED10004)_W(NTM_U6.0_SEED10004)\\\\libdiscon.dll'"
      ]
     },
     "execution_count": 7,
     "metadata": {},
     "output_type": "execute_result"
    },
    {
     "data": {
      "text/plain": [
       "'00011_w(Irreg_DIR000_Hs8.0_Tp12.7_U06_SEED10005)_W(NTM_U6.0_SEED10005)\\\\BladedControllerWrapper_20210627.py'"
      ]
     },
     "execution_count": 7,
     "metadata": {},
     "output_type": "execute_result"
    },
    {
     "data": {
      "text/plain": [
       "'00011_w(Irreg_DIR000_Hs8.0_Tp12.7_U06_SEED10005)_W(NTM_U6.0_SEED10005)\\\\Cp_Ct_Cq.IEA15MW.txt'"
      ]
     },
     "execution_count": 7,
     "metadata": {},
     "output_type": "execute_result"
    },
    {
     "data": {
      "text/plain": [
       "'00011_w(Irreg_DIR000_Hs8.0_Tp12.7_U06_SEED10005)_W(NTM_U6.0_SEED10005)\\\\DISCON-UMaineSemi.IN'"
      ]
     },
     "execution_count": 7,
     "metadata": {},
     "output_type": "execute_result"
    },
    {
     "data": {
      "text/plain": [
       "'00011_w(Irreg_DIR000_Hs8.0_Tp12.7_U06_SEED10005)_W(NTM_U6.0_SEED10005)\\\\Floater_20210215_1.GDF'"
      ]
     },
     "execution_count": 7,
     "metadata": {},
     "output_type": "execute_result"
    },
    {
     "data": {
      "text/plain": [
       "'00011_w(Irreg_DIR000_Hs8.0_Tp12.7_U06_SEED10005)_W(NTM_U6.0_SEED10005)\\\\libdiscon.dll'"
      ]
     },
     "execution_count": 7,
     "metadata": {},
     "output_type": "execute_result"
    },
    {
     "data": {
      "text/plain": [
       "'00012_w(Irreg_DIR000_Hs8.0_Tp12.7_U06_SEED10006)_W(NTM_U6.0_SEED10006)\\\\BladedControllerWrapper_20210627.py'"
      ]
     },
     "execution_count": 7,
     "metadata": {},
     "output_type": "execute_result"
    },
    {
     "data": {
      "text/plain": [
       "'00012_w(Irreg_DIR000_Hs8.0_Tp12.7_U06_SEED10006)_W(NTM_U6.0_SEED10006)\\\\Cp_Ct_Cq.IEA15MW.txt'"
      ]
     },
     "execution_count": 7,
     "metadata": {},
     "output_type": "execute_result"
    },
    {
     "data": {
      "text/plain": [
       "'00012_w(Irreg_DIR000_Hs8.0_Tp12.7_U06_SEED10006)_W(NTM_U6.0_SEED10006)\\\\DISCON-UMaineSemi.IN'"
      ]
     },
     "execution_count": 7,
     "metadata": {},
     "output_type": "execute_result"
    },
    {
     "data": {
      "text/plain": [
       "'00012_w(Irreg_DIR000_Hs8.0_Tp12.7_U06_SEED10006)_W(NTM_U6.0_SEED10006)\\\\Floater_20210215_1.GDF'"
      ]
     },
     "execution_count": 7,
     "metadata": {},
     "output_type": "execute_result"
    },
    {
     "data": {
      "text/plain": [
       "'00012_w(Irreg_DIR000_Hs8.0_Tp12.7_U06_SEED10006)_W(NTM_U6.0_SEED10006)\\\\libdiscon.dll'"
      ]
     },
     "execution_count": 7,
     "metadata": {},
     "output_type": "execute_result"
    },
    {
     "data": {
      "text/plain": [
       "'00013_w(Irreg_DIR000_Hs8.0_Tp12.7_U08_SEED10001)_W(NTM_U8.0_SEED10001)\\\\BladedControllerWrapper_20210627.py'"
      ]
     },
     "execution_count": 7,
     "metadata": {},
     "output_type": "execute_result"
    },
    {
     "data": {
      "text/plain": [
       "'00013_w(Irreg_DIR000_Hs8.0_Tp12.7_U08_SEED10001)_W(NTM_U8.0_SEED10001)\\\\Cp_Ct_Cq.IEA15MW.txt'"
      ]
     },
     "execution_count": 7,
     "metadata": {},
     "output_type": "execute_result"
    },
    {
     "data": {
      "text/plain": [
       "'00013_w(Irreg_DIR000_Hs8.0_Tp12.7_U08_SEED10001)_W(NTM_U8.0_SEED10001)\\\\DISCON-UMaineSemi.IN'"
      ]
     },
     "execution_count": 7,
     "metadata": {},
     "output_type": "execute_result"
    },
    {
     "data": {
      "text/plain": [
       "'00013_w(Irreg_DIR000_Hs8.0_Tp12.7_U08_SEED10001)_W(NTM_U8.0_SEED10001)\\\\Floater_20210215_1.GDF'"
      ]
     },
     "execution_count": 7,
     "metadata": {},
     "output_type": "execute_result"
    },
    {
     "data": {
      "text/plain": [
       "'00013_w(Irreg_DIR000_Hs8.0_Tp12.7_U08_SEED10001)_W(NTM_U8.0_SEED10001)\\\\libdiscon.dll'"
      ]
     },
     "execution_count": 7,
     "metadata": {},
     "output_type": "execute_result"
    },
    {
     "data": {
      "text/plain": [
       "'00014_w(Irreg_DIR000_Hs8.0_Tp12.7_U08_SEED10002)_W(NTM_U8.0_SEED10002)\\\\BladedControllerWrapper_20210627.py'"
      ]
     },
     "execution_count": 7,
     "metadata": {},
     "output_type": "execute_result"
    },
    {
     "data": {
      "text/plain": [
       "'00014_w(Irreg_DIR000_Hs8.0_Tp12.7_U08_SEED10002)_W(NTM_U8.0_SEED10002)\\\\Cp_Ct_Cq.IEA15MW.txt'"
      ]
     },
     "execution_count": 7,
     "metadata": {},
     "output_type": "execute_result"
    },
    {
     "data": {
      "text/plain": [
       "'00014_w(Irreg_DIR000_Hs8.0_Tp12.7_U08_SEED10002)_W(NTM_U8.0_SEED10002)\\\\DISCON-UMaineSemi.IN'"
      ]
     },
     "execution_count": 7,
     "metadata": {},
     "output_type": "execute_result"
    },
    {
     "data": {
      "text/plain": [
       "'00014_w(Irreg_DIR000_Hs8.0_Tp12.7_U08_SEED10002)_W(NTM_U8.0_SEED10002)\\\\Floater_20210215_1.GDF'"
      ]
     },
     "execution_count": 7,
     "metadata": {},
     "output_type": "execute_result"
    },
    {
     "data": {
      "text/plain": [
       "'00014_w(Irreg_DIR000_Hs8.0_Tp12.7_U08_SEED10002)_W(NTM_U8.0_SEED10002)\\\\libdiscon.dll'"
      ]
     },
     "execution_count": 7,
     "metadata": {},
     "output_type": "execute_result"
    },
    {
     "data": {
      "text/plain": [
       "'00015_w(Irreg_DIR000_Hs8.0_Tp12.7_U08_SEED10003)_W(NTM_U8.0_SEED10003)\\\\BladedControllerWrapper_20210627.py'"
      ]
     },
     "execution_count": 7,
     "metadata": {},
     "output_type": "execute_result"
    },
    {
     "data": {
      "text/plain": [
       "'00015_w(Irreg_DIR000_Hs8.0_Tp12.7_U08_SEED10003)_W(NTM_U8.0_SEED10003)\\\\Cp_Ct_Cq.IEA15MW.txt'"
      ]
     },
     "execution_count": 7,
     "metadata": {},
     "output_type": "execute_result"
    },
    {
     "data": {
      "text/plain": [
       "'00015_w(Irreg_DIR000_Hs8.0_Tp12.7_U08_SEED10003)_W(NTM_U8.0_SEED10003)\\\\DISCON-UMaineSemi.IN'"
      ]
     },
     "execution_count": 7,
     "metadata": {},
     "output_type": "execute_result"
    },
    {
     "data": {
      "text/plain": [
       "'00015_w(Irreg_DIR000_Hs8.0_Tp12.7_U08_SEED10003)_W(NTM_U8.0_SEED10003)\\\\Floater_20210215_1.GDF'"
      ]
     },
     "execution_count": 7,
     "metadata": {},
     "output_type": "execute_result"
    },
    {
     "data": {
      "text/plain": [
       "'00015_w(Irreg_DIR000_Hs8.0_Tp12.7_U08_SEED10003)_W(NTM_U8.0_SEED10003)\\\\libdiscon.dll'"
      ]
     },
     "execution_count": 7,
     "metadata": {},
     "output_type": "execute_result"
    },
    {
     "data": {
      "text/plain": [
       "'00016_w(Irreg_DIR000_Hs8.0_Tp12.7_U08_SEED10004)_W(NTM_U8.0_SEED10004)\\\\BladedControllerWrapper_20210627.py'"
      ]
     },
     "execution_count": 7,
     "metadata": {},
     "output_type": "execute_result"
    },
    {
     "data": {
      "text/plain": [
       "'00016_w(Irreg_DIR000_Hs8.0_Tp12.7_U08_SEED10004)_W(NTM_U8.0_SEED10004)\\\\Cp_Ct_Cq.IEA15MW.txt'"
      ]
     },
     "execution_count": 7,
     "metadata": {},
     "output_type": "execute_result"
    },
    {
     "data": {
      "text/plain": [
       "'00016_w(Irreg_DIR000_Hs8.0_Tp12.7_U08_SEED10004)_W(NTM_U8.0_SEED10004)\\\\DISCON-UMaineSemi.IN'"
      ]
     },
     "execution_count": 7,
     "metadata": {},
     "output_type": "execute_result"
    },
    {
     "data": {
      "text/plain": [
       "'00016_w(Irreg_DIR000_Hs8.0_Tp12.7_U08_SEED10004)_W(NTM_U8.0_SEED10004)\\\\Floater_20210215_1.GDF'"
      ]
     },
     "execution_count": 7,
     "metadata": {},
     "output_type": "execute_result"
    },
    {
     "data": {
      "text/plain": [
       "'00016_w(Irreg_DIR000_Hs8.0_Tp12.7_U08_SEED10004)_W(NTM_U8.0_SEED10004)\\\\libdiscon.dll'"
      ]
     },
     "execution_count": 7,
     "metadata": {},
     "output_type": "execute_result"
    },
    {
     "data": {
      "text/plain": [
       "'00017_w(Irreg_DIR000_Hs8.0_Tp12.7_U08_SEED10005)_W(NTM_U8.0_SEED10005)\\\\BladedControllerWrapper_20210627.py'"
      ]
     },
     "execution_count": 7,
     "metadata": {},
     "output_type": "execute_result"
    },
    {
     "data": {
      "text/plain": [
       "'00017_w(Irreg_DIR000_Hs8.0_Tp12.7_U08_SEED10005)_W(NTM_U8.0_SEED10005)\\\\Cp_Ct_Cq.IEA15MW.txt'"
      ]
     },
     "execution_count": 7,
     "metadata": {},
     "output_type": "execute_result"
    },
    {
     "data": {
      "text/plain": [
       "'00017_w(Irreg_DIR000_Hs8.0_Tp12.7_U08_SEED10005)_W(NTM_U8.0_SEED10005)\\\\DISCON-UMaineSemi.IN'"
      ]
     },
     "execution_count": 7,
     "metadata": {},
     "output_type": "execute_result"
    },
    {
     "data": {
      "text/plain": [
       "'00017_w(Irreg_DIR000_Hs8.0_Tp12.7_U08_SEED10005)_W(NTM_U8.0_SEED10005)\\\\Floater_20210215_1.GDF'"
      ]
     },
     "execution_count": 7,
     "metadata": {},
     "output_type": "execute_result"
    },
    {
     "data": {
      "text/plain": [
       "'00017_w(Irreg_DIR000_Hs8.0_Tp12.7_U08_SEED10005)_W(NTM_U8.0_SEED10005)\\\\libdiscon.dll'"
      ]
     },
     "execution_count": 7,
     "metadata": {},
     "output_type": "execute_result"
    },
    {
     "data": {
      "text/plain": [
       "'00018_w(Irreg_DIR000_Hs8.0_Tp12.7_U08_SEED10006)_W(NTM_U8.0_SEED10006)\\\\BladedControllerWrapper_20210627.py'"
      ]
     },
     "execution_count": 7,
     "metadata": {},
     "output_type": "execute_result"
    },
    {
     "data": {
      "text/plain": [
       "'00018_w(Irreg_DIR000_Hs8.0_Tp12.7_U08_SEED10006)_W(NTM_U8.0_SEED10006)\\\\Cp_Ct_Cq.IEA15MW.txt'"
      ]
     },
     "execution_count": 7,
     "metadata": {},
     "output_type": "execute_result"
    },
    {
     "data": {
      "text/plain": [
       "'00018_w(Irreg_DIR000_Hs8.0_Tp12.7_U08_SEED10006)_W(NTM_U8.0_SEED10006)\\\\DISCON-UMaineSemi.IN'"
      ]
     },
     "execution_count": 7,
     "metadata": {},
     "output_type": "execute_result"
    },
    {
     "data": {
      "text/plain": [
       "'00018_w(Irreg_DIR000_Hs8.0_Tp12.7_U08_SEED10006)_W(NTM_U8.0_SEED10006)\\\\Floater_20210215_1.GDF'"
      ]
     },
     "execution_count": 7,
     "metadata": {},
     "output_type": "execute_result"
    },
    {
     "data": {
      "text/plain": [
       "'00018_w(Irreg_DIR000_Hs8.0_Tp12.7_U08_SEED10006)_W(NTM_U8.0_SEED10006)\\\\libdiscon.dll'"
      ]
     },
     "execution_count": 7,
     "metadata": {},
     "output_type": "execute_result"
    },
    {
     "data": {
      "text/plain": [
       "'00019_w(Irreg_DIR000_Hs8.1_Tp12.8_U10_SEED10001)_W(NTM_U10.0_SEED10001)\\\\BladedControllerWrapper_20210627.py'"
      ]
     },
     "execution_count": 7,
     "metadata": {},
     "output_type": "execute_result"
    },
    {
     "data": {
      "text/plain": [
       "'00019_w(Irreg_DIR000_Hs8.1_Tp12.8_U10_SEED10001)_W(NTM_U10.0_SEED10001)\\\\Cp_Ct_Cq.IEA15MW.txt'"
      ]
     },
     "execution_count": 7,
     "metadata": {},
     "output_type": "execute_result"
    },
    {
     "data": {
      "text/plain": [
       "'00019_w(Irreg_DIR000_Hs8.1_Tp12.8_U10_SEED10001)_W(NTM_U10.0_SEED10001)\\\\DISCON-UMaineSemi.IN'"
      ]
     },
     "execution_count": 7,
     "metadata": {},
     "output_type": "execute_result"
    },
    {
     "data": {
      "text/plain": [
       "'00019_w(Irreg_DIR000_Hs8.1_Tp12.8_U10_SEED10001)_W(NTM_U10.0_SEED10001)\\\\Floater_20210215_1.GDF'"
      ]
     },
     "execution_count": 7,
     "metadata": {},
     "output_type": "execute_result"
    },
    {
     "data": {
      "text/plain": [
       "'00019_w(Irreg_DIR000_Hs8.1_Tp12.8_U10_SEED10001)_W(NTM_U10.0_SEED10001)\\\\libdiscon.dll'"
      ]
     },
     "execution_count": 7,
     "metadata": {},
     "output_type": "execute_result"
    },
    {
     "data": {
      "text/plain": [
       "'00020_w(Irreg_DIR000_Hs8.1_Tp12.8_U10_SEED10002)_W(NTM_U10.0_SEED10002)\\\\BladedControllerWrapper_20210627.py'"
      ]
     },
     "execution_count": 7,
     "metadata": {},
     "output_type": "execute_result"
    },
    {
     "data": {
      "text/plain": [
       "'00020_w(Irreg_DIR000_Hs8.1_Tp12.8_U10_SEED10002)_W(NTM_U10.0_SEED10002)\\\\Cp_Ct_Cq.IEA15MW.txt'"
      ]
     },
     "execution_count": 7,
     "metadata": {},
     "output_type": "execute_result"
    },
    {
     "data": {
      "text/plain": [
       "'00020_w(Irreg_DIR000_Hs8.1_Tp12.8_U10_SEED10002)_W(NTM_U10.0_SEED10002)\\\\DISCON-UMaineSemi.IN'"
      ]
     },
     "execution_count": 7,
     "metadata": {},
     "output_type": "execute_result"
    },
    {
     "data": {
      "text/plain": [
       "'00020_w(Irreg_DIR000_Hs8.1_Tp12.8_U10_SEED10002)_W(NTM_U10.0_SEED10002)\\\\Floater_20210215_1.GDF'"
      ]
     },
     "execution_count": 7,
     "metadata": {},
     "output_type": "execute_result"
    },
    {
     "data": {
      "text/plain": [
       "'00020_w(Irreg_DIR000_Hs8.1_Tp12.8_U10_SEED10002)_W(NTM_U10.0_SEED10002)\\\\libdiscon.dll'"
      ]
     },
     "execution_count": 7,
     "metadata": {},
     "output_type": "execute_result"
    },
    {
     "data": {
      "text/plain": [
       "'00021_w(Irreg_DIR000_Hs8.1_Tp12.8_U10_SEED10003)_W(NTM_U10.0_SEED10003)\\\\BladedControllerWrapper_20210627.py'"
      ]
     },
     "execution_count": 7,
     "metadata": {},
     "output_type": "execute_result"
    },
    {
     "data": {
      "text/plain": [
       "'00021_w(Irreg_DIR000_Hs8.1_Tp12.8_U10_SEED10003)_W(NTM_U10.0_SEED10003)\\\\Cp_Ct_Cq.IEA15MW.txt'"
      ]
     },
     "execution_count": 7,
     "metadata": {},
     "output_type": "execute_result"
    },
    {
     "data": {
      "text/plain": [
       "'00021_w(Irreg_DIR000_Hs8.1_Tp12.8_U10_SEED10003)_W(NTM_U10.0_SEED10003)\\\\DISCON-UMaineSemi.IN'"
      ]
     },
     "execution_count": 7,
     "metadata": {},
     "output_type": "execute_result"
    },
    {
     "data": {
      "text/plain": [
       "'00021_w(Irreg_DIR000_Hs8.1_Tp12.8_U10_SEED10003)_W(NTM_U10.0_SEED10003)\\\\Floater_20210215_1.GDF'"
      ]
     },
     "execution_count": 7,
     "metadata": {},
     "output_type": "execute_result"
    },
    {
     "data": {
      "text/plain": [
       "'00021_w(Irreg_DIR000_Hs8.1_Tp12.8_U10_SEED10003)_W(NTM_U10.0_SEED10003)\\\\libdiscon.dll'"
      ]
     },
     "execution_count": 7,
     "metadata": {},
     "output_type": "execute_result"
    },
    {
     "data": {
      "text/plain": [
       "'00022_w(Irreg_DIR000_Hs8.1_Tp12.8_U10_SEED10004)_W(NTM_U10.0_SEED10004)\\\\BladedControllerWrapper_20210627.py'"
      ]
     },
     "execution_count": 7,
     "metadata": {},
     "output_type": "execute_result"
    },
    {
     "data": {
      "text/plain": [
       "'00022_w(Irreg_DIR000_Hs8.1_Tp12.8_U10_SEED10004)_W(NTM_U10.0_SEED10004)\\\\Cp_Ct_Cq.IEA15MW.txt'"
      ]
     },
     "execution_count": 7,
     "metadata": {},
     "output_type": "execute_result"
    },
    {
     "data": {
      "text/plain": [
       "'00022_w(Irreg_DIR000_Hs8.1_Tp12.8_U10_SEED10004)_W(NTM_U10.0_SEED10004)\\\\DISCON-UMaineSemi.IN'"
      ]
     },
     "execution_count": 7,
     "metadata": {},
     "output_type": "execute_result"
    },
    {
     "data": {
      "text/plain": [
       "'00022_w(Irreg_DIR000_Hs8.1_Tp12.8_U10_SEED10004)_W(NTM_U10.0_SEED10004)\\\\Floater_20210215_1.GDF'"
      ]
     },
     "execution_count": 7,
     "metadata": {},
     "output_type": "execute_result"
    },
    {
     "data": {
      "text/plain": [
       "'00022_w(Irreg_DIR000_Hs8.1_Tp12.8_U10_SEED10004)_W(NTM_U10.0_SEED10004)\\\\libdiscon.dll'"
      ]
     },
     "execution_count": 7,
     "metadata": {},
     "output_type": "execute_result"
    },
    {
     "data": {
      "text/plain": [
       "'00023_w(Irreg_DIR000_Hs8.1_Tp12.8_U10_SEED10005)_W(NTM_U10.0_SEED10005)\\\\BladedControllerWrapper_20210627.py'"
      ]
     },
     "execution_count": 7,
     "metadata": {},
     "output_type": "execute_result"
    },
    {
     "data": {
      "text/plain": [
       "'00023_w(Irreg_DIR000_Hs8.1_Tp12.8_U10_SEED10005)_W(NTM_U10.0_SEED10005)\\\\Cp_Ct_Cq.IEA15MW.txt'"
      ]
     },
     "execution_count": 7,
     "metadata": {},
     "output_type": "execute_result"
    },
    {
     "data": {
      "text/plain": [
       "'00023_w(Irreg_DIR000_Hs8.1_Tp12.8_U10_SEED10005)_W(NTM_U10.0_SEED10005)\\\\DISCON-UMaineSemi.IN'"
      ]
     },
     "execution_count": 7,
     "metadata": {},
     "output_type": "execute_result"
    },
    {
     "data": {
      "text/plain": [
       "'00023_w(Irreg_DIR000_Hs8.1_Tp12.8_U10_SEED10005)_W(NTM_U10.0_SEED10005)\\\\Floater_20210215_1.GDF'"
      ]
     },
     "execution_count": 7,
     "metadata": {},
     "output_type": "execute_result"
    },
    {
     "data": {
      "text/plain": [
       "'00023_w(Irreg_DIR000_Hs8.1_Tp12.8_U10_SEED10005)_W(NTM_U10.0_SEED10005)\\\\libdiscon.dll'"
      ]
     },
     "execution_count": 7,
     "metadata": {},
     "output_type": "execute_result"
    },
    {
     "data": {
      "text/plain": [
       "'00024_w(Irreg_DIR000_Hs8.1_Tp12.8_U10_SEED10006)_W(NTM_U10.0_SEED10006)\\\\BladedControllerWrapper_20210627.py'"
      ]
     },
     "execution_count": 7,
     "metadata": {},
     "output_type": "execute_result"
    },
    {
     "data": {
      "text/plain": [
       "'00024_w(Irreg_DIR000_Hs8.1_Tp12.8_U10_SEED10006)_W(NTM_U10.0_SEED10006)\\\\Cp_Ct_Cq.IEA15MW.txt'"
      ]
     },
     "execution_count": 7,
     "metadata": {},
     "output_type": "execute_result"
    },
    {
     "data": {
      "text/plain": [
       "'00024_w(Irreg_DIR000_Hs8.1_Tp12.8_U10_SEED10006)_W(NTM_U10.0_SEED10006)\\\\DISCON-UMaineSemi.IN'"
      ]
     },
     "execution_count": 7,
     "metadata": {},
     "output_type": "execute_result"
    },
    {
     "data": {
      "text/plain": [
       "'00024_w(Irreg_DIR000_Hs8.1_Tp12.8_U10_SEED10006)_W(NTM_U10.0_SEED10006)\\\\Floater_20210215_1.GDF'"
      ]
     },
     "execution_count": 7,
     "metadata": {},
     "output_type": "execute_result"
    },
    {
     "data": {
      "text/plain": [
       "'00024_w(Irreg_DIR000_Hs8.1_Tp12.8_U10_SEED10006)_W(NTM_U10.0_SEED10006)\\\\libdiscon.dll'"
      ]
     },
     "execution_count": 7,
     "metadata": {},
     "output_type": "execute_result"
    },
    {
     "data": {
      "text/plain": [
       "'00025_w(Irreg_DIR000_Hs8.5_Tp13.1_U12_SEED10001)_W(NTM_U12.0_SEED10001)\\\\BladedControllerWrapper_20210627.py'"
      ]
     },
     "execution_count": 7,
     "metadata": {},
     "output_type": "execute_result"
    },
    {
     "data": {
      "text/plain": [
       "'00025_w(Irreg_DIR000_Hs8.5_Tp13.1_U12_SEED10001)_W(NTM_U12.0_SEED10001)\\\\Cp_Ct_Cq.IEA15MW.txt'"
      ]
     },
     "execution_count": 7,
     "metadata": {},
     "output_type": "execute_result"
    },
    {
     "data": {
      "text/plain": [
       "'00025_w(Irreg_DIR000_Hs8.5_Tp13.1_U12_SEED10001)_W(NTM_U12.0_SEED10001)\\\\DISCON-UMaineSemi.IN'"
      ]
     },
     "execution_count": 7,
     "metadata": {},
     "output_type": "execute_result"
    },
    {
     "data": {
      "text/plain": [
       "'00025_w(Irreg_DIR000_Hs8.5_Tp13.1_U12_SEED10001)_W(NTM_U12.0_SEED10001)\\\\Floater_20210215_1.GDF'"
      ]
     },
     "execution_count": 7,
     "metadata": {},
     "output_type": "execute_result"
    },
    {
     "data": {
      "text/plain": [
       "'00025_w(Irreg_DIR000_Hs8.5_Tp13.1_U12_SEED10001)_W(NTM_U12.0_SEED10001)\\\\libdiscon.dll'"
      ]
     },
     "execution_count": 7,
     "metadata": {},
     "output_type": "execute_result"
    },
    {
     "data": {
      "text/plain": [
       "'00026_w(Irreg_DIR000_Hs8.5_Tp13.1_U12_SEED10002)_W(NTM_U12.0_SEED10002)\\\\BladedControllerWrapper_20210627.py'"
      ]
     },
     "execution_count": 7,
     "metadata": {},
     "output_type": "execute_result"
    },
    {
     "data": {
      "text/plain": [
       "'00026_w(Irreg_DIR000_Hs8.5_Tp13.1_U12_SEED10002)_W(NTM_U12.0_SEED10002)\\\\Cp_Ct_Cq.IEA15MW.txt'"
      ]
     },
     "execution_count": 7,
     "metadata": {},
     "output_type": "execute_result"
    },
    {
     "data": {
      "text/plain": [
       "'00026_w(Irreg_DIR000_Hs8.5_Tp13.1_U12_SEED10002)_W(NTM_U12.0_SEED10002)\\\\DISCON-UMaineSemi.IN'"
      ]
     },
     "execution_count": 7,
     "metadata": {},
     "output_type": "execute_result"
    },
    {
     "data": {
      "text/plain": [
       "'00026_w(Irreg_DIR000_Hs8.5_Tp13.1_U12_SEED10002)_W(NTM_U12.0_SEED10002)\\\\Floater_20210215_1.GDF'"
      ]
     },
     "execution_count": 7,
     "metadata": {},
     "output_type": "execute_result"
    },
    {
     "data": {
      "text/plain": [
       "'00026_w(Irreg_DIR000_Hs8.5_Tp13.1_U12_SEED10002)_W(NTM_U12.0_SEED10002)\\\\libdiscon.dll'"
      ]
     },
     "execution_count": 7,
     "metadata": {},
     "output_type": "execute_result"
    },
    {
     "data": {
      "text/plain": [
       "'00027_w(Irreg_DIR000_Hs8.5_Tp13.1_U12_SEED10003)_W(NTM_U12.0_SEED10003)\\\\BladedControllerWrapper_20210627.py'"
      ]
     },
     "execution_count": 7,
     "metadata": {},
     "output_type": "execute_result"
    },
    {
     "data": {
      "text/plain": [
       "'00027_w(Irreg_DIR000_Hs8.5_Tp13.1_U12_SEED10003)_W(NTM_U12.0_SEED10003)\\\\Cp_Ct_Cq.IEA15MW.txt'"
      ]
     },
     "execution_count": 7,
     "metadata": {},
     "output_type": "execute_result"
    },
    {
     "data": {
      "text/plain": [
       "'00027_w(Irreg_DIR000_Hs8.5_Tp13.1_U12_SEED10003)_W(NTM_U12.0_SEED10003)\\\\DISCON-UMaineSemi.IN'"
      ]
     },
     "execution_count": 7,
     "metadata": {},
     "output_type": "execute_result"
    },
    {
     "data": {
      "text/plain": [
       "'00027_w(Irreg_DIR000_Hs8.5_Tp13.1_U12_SEED10003)_W(NTM_U12.0_SEED10003)\\\\Floater_20210215_1.GDF'"
      ]
     },
     "execution_count": 7,
     "metadata": {},
     "output_type": "execute_result"
    },
    {
     "data": {
      "text/plain": [
       "'00027_w(Irreg_DIR000_Hs8.5_Tp13.1_U12_SEED10003)_W(NTM_U12.0_SEED10003)\\\\libdiscon.dll'"
      ]
     },
     "execution_count": 7,
     "metadata": {},
     "output_type": "execute_result"
    },
    {
     "data": {
      "text/plain": [
       "'00028_w(Irreg_DIR000_Hs8.5_Tp13.1_U12_SEED10004)_W(NTM_U12.0_SEED10004)\\\\BladedControllerWrapper_20210627.py'"
      ]
     },
     "execution_count": 7,
     "metadata": {},
     "output_type": "execute_result"
    },
    {
     "data": {
      "text/plain": [
       "'00028_w(Irreg_DIR000_Hs8.5_Tp13.1_U12_SEED10004)_W(NTM_U12.0_SEED10004)\\\\Cp_Ct_Cq.IEA15MW.txt'"
      ]
     },
     "execution_count": 7,
     "metadata": {},
     "output_type": "execute_result"
    },
    {
     "data": {
      "text/plain": [
       "'00028_w(Irreg_DIR000_Hs8.5_Tp13.1_U12_SEED10004)_W(NTM_U12.0_SEED10004)\\\\DISCON-UMaineSemi.IN'"
      ]
     },
     "execution_count": 7,
     "metadata": {},
     "output_type": "execute_result"
    },
    {
     "data": {
      "text/plain": [
       "'00028_w(Irreg_DIR000_Hs8.5_Tp13.1_U12_SEED10004)_W(NTM_U12.0_SEED10004)\\\\Floater_20210215_1.GDF'"
      ]
     },
     "execution_count": 7,
     "metadata": {},
     "output_type": "execute_result"
    },
    {
     "data": {
      "text/plain": [
       "'00028_w(Irreg_DIR000_Hs8.5_Tp13.1_U12_SEED10004)_W(NTM_U12.0_SEED10004)\\\\libdiscon.dll'"
      ]
     },
     "execution_count": 7,
     "metadata": {},
     "output_type": "execute_result"
    },
    {
     "data": {
      "text/plain": [
       "'00029_w(Irreg_DIR000_Hs8.5_Tp13.1_U12_SEED10005)_W(NTM_U12.0_SEED10005)\\\\BladedControllerWrapper_20210627.py'"
      ]
     },
     "execution_count": 7,
     "metadata": {},
     "output_type": "execute_result"
    },
    {
     "data": {
      "text/plain": [
       "'00029_w(Irreg_DIR000_Hs8.5_Tp13.1_U12_SEED10005)_W(NTM_U12.0_SEED10005)\\\\Cp_Ct_Cq.IEA15MW.txt'"
      ]
     },
     "execution_count": 7,
     "metadata": {},
     "output_type": "execute_result"
    },
    {
     "data": {
      "text/plain": [
       "'00029_w(Irreg_DIR000_Hs8.5_Tp13.1_U12_SEED10005)_W(NTM_U12.0_SEED10005)\\\\DISCON-UMaineSemi.IN'"
      ]
     },
     "execution_count": 7,
     "metadata": {},
     "output_type": "execute_result"
    },
    {
     "data": {
      "text/plain": [
       "'00029_w(Irreg_DIR000_Hs8.5_Tp13.1_U12_SEED10005)_W(NTM_U12.0_SEED10005)\\\\Floater_20210215_1.GDF'"
      ]
     },
     "execution_count": 7,
     "metadata": {},
     "output_type": "execute_result"
    },
    {
     "data": {
      "text/plain": [
       "'00029_w(Irreg_DIR000_Hs8.5_Tp13.1_U12_SEED10005)_W(NTM_U12.0_SEED10005)\\\\libdiscon.dll'"
      ]
     },
     "execution_count": 7,
     "metadata": {},
     "output_type": "execute_result"
    },
    {
     "data": {
      "text/plain": [
       "'00030_w(Irreg_DIR000_Hs8.5_Tp13.1_U12_SEED10006)_W(NTM_U12.0_SEED10006)\\\\BladedControllerWrapper_20210627.py'"
      ]
     },
     "execution_count": 7,
     "metadata": {},
     "output_type": "execute_result"
    },
    {
     "data": {
      "text/plain": [
       "'00030_w(Irreg_DIR000_Hs8.5_Tp13.1_U12_SEED10006)_W(NTM_U12.0_SEED10006)\\\\Cp_Ct_Cq.IEA15MW.txt'"
      ]
     },
     "execution_count": 7,
     "metadata": {},
     "output_type": "execute_result"
    },
    {
     "data": {
      "text/plain": [
       "'00030_w(Irreg_DIR000_Hs8.5_Tp13.1_U12_SEED10006)_W(NTM_U12.0_SEED10006)\\\\DISCON-UMaineSemi.IN'"
      ]
     },
     "execution_count": 7,
     "metadata": {},
     "output_type": "execute_result"
    },
    {
     "data": {
      "text/plain": [
       "'00030_w(Irreg_DIR000_Hs8.5_Tp13.1_U12_SEED10006)_W(NTM_U12.0_SEED10006)\\\\Floater_20210215_1.GDF'"
      ]
     },
     "execution_count": 7,
     "metadata": {},
     "output_type": "execute_result"
    },
    {
     "data": {
      "text/plain": [
       "'00030_w(Irreg_DIR000_Hs8.5_Tp13.1_U12_SEED10006)_W(NTM_U12.0_SEED10006)\\\\libdiscon.dll'"
      ]
     },
     "execution_count": 7,
     "metadata": {},
     "output_type": "execute_result"
    },
    {
     "data": {
      "text/plain": [
       "'00031_w(Irreg_DIR000_Hs8.5_Tp13.1_U14_SEED10001)_W(NTM_U14.0_SEED10001)\\\\BladedControllerWrapper_20210627.py'"
      ]
     },
     "execution_count": 7,
     "metadata": {},
     "output_type": "execute_result"
    },
    {
     "data": {
      "text/plain": [
       "'00031_w(Irreg_DIR000_Hs8.5_Tp13.1_U14_SEED10001)_W(NTM_U14.0_SEED10001)\\\\Cp_Ct_Cq.IEA15MW.txt'"
      ]
     },
     "execution_count": 7,
     "metadata": {},
     "output_type": "execute_result"
    },
    {
     "data": {
      "text/plain": [
       "'00031_w(Irreg_DIR000_Hs8.5_Tp13.1_U14_SEED10001)_W(NTM_U14.0_SEED10001)\\\\DISCON-UMaineSemi.IN'"
      ]
     },
     "execution_count": 7,
     "metadata": {},
     "output_type": "execute_result"
    },
    {
     "data": {
      "text/plain": [
       "'00031_w(Irreg_DIR000_Hs8.5_Tp13.1_U14_SEED10001)_W(NTM_U14.0_SEED10001)\\\\Floater_20210215_1.GDF'"
      ]
     },
     "execution_count": 7,
     "metadata": {},
     "output_type": "execute_result"
    },
    {
     "data": {
      "text/plain": [
       "'00031_w(Irreg_DIR000_Hs8.5_Tp13.1_U14_SEED10001)_W(NTM_U14.0_SEED10001)\\\\libdiscon.dll'"
      ]
     },
     "execution_count": 7,
     "metadata": {},
     "output_type": "execute_result"
    },
    {
     "data": {
      "text/plain": [
       "'00032_w(Irreg_DIR000_Hs8.5_Tp13.1_U14_SEED10002)_W(NTM_U14.0_SEED10002)\\\\BladedControllerWrapper_20210627.py'"
      ]
     },
     "execution_count": 7,
     "metadata": {},
     "output_type": "execute_result"
    },
    {
     "data": {
      "text/plain": [
       "'00032_w(Irreg_DIR000_Hs8.5_Tp13.1_U14_SEED10002)_W(NTM_U14.0_SEED10002)\\\\Cp_Ct_Cq.IEA15MW.txt'"
      ]
     },
     "execution_count": 7,
     "metadata": {},
     "output_type": "execute_result"
    },
    {
     "data": {
      "text/plain": [
       "'00032_w(Irreg_DIR000_Hs8.5_Tp13.1_U14_SEED10002)_W(NTM_U14.0_SEED10002)\\\\DISCON-UMaineSemi.IN'"
      ]
     },
     "execution_count": 7,
     "metadata": {},
     "output_type": "execute_result"
    },
    {
     "data": {
      "text/plain": [
       "'00032_w(Irreg_DIR000_Hs8.5_Tp13.1_U14_SEED10002)_W(NTM_U14.0_SEED10002)\\\\Floater_20210215_1.GDF'"
      ]
     },
     "execution_count": 7,
     "metadata": {},
     "output_type": "execute_result"
    },
    {
     "data": {
      "text/plain": [
       "'00032_w(Irreg_DIR000_Hs8.5_Tp13.1_U14_SEED10002)_W(NTM_U14.0_SEED10002)\\\\libdiscon.dll'"
      ]
     },
     "execution_count": 7,
     "metadata": {},
     "output_type": "execute_result"
    },
    {
     "data": {
      "text/plain": [
       "'00033_w(Irreg_DIR000_Hs8.5_Tp13.1_U14_SEED10003)_W(NTM_U14.0_SEED10003)\\\\BladedControllerWrapper_20210627.py'"
      ]
     },
     "execution_count": 7,
     "metadata": {},
     "output_type": "execute_result"
    },
    {
     "data": {
      "text/plain": [
       "'00033_w(Irreg_DIR000_Hs8.5_Tp13.1_U14_SEED10003)_W(NTM_U14.0_SEED10003)\\\\Cp_Ct_Cq.IEA15MW.txt'"
      ]
     },
     "execution_count": 7,
     "metadata": {},
     "output_type": "execute_result"
    },
    {
     "data": {
      "text/plain": [
       "'00033_w(Irreg_DIR000_Hs8.5_Tp13.1_U14_SEED10003)_W(NTM_U14.0_SEED10003)\\\\DISCON-UMaineSemi.IN'"
      ]
     },
     "execution_count": 7,
     "metadata": {},
     "output_type": "execute_result"
    },
    {
     "data": {
      "text/plain": [
       "'00033_w(Irreg_DIR000_Hs8.5_Tp13.1_U14_SEED10003)_W(NTM_U14.0_SEED10003)\\\\Floater_20210215_1.GDF'"
      ]
     },
     "execution_count": 7,
     "metadata": {},
     "output_type": "execute_result"
    },
    {
     "data": {
      "text/plain": [
       "'00033_w(Irreg_DIR000_Hs8.5_Tp13.1_U14_SEED10003)_W(NTM_U14.0_SEED10003)\\\\libdiscon.dll'"
      ]
     },
     "execution_count": 7,
     "metadata": {},
     "output_type": "execute_result"
    },
    {
     "data": {
      "text/plain": [
       "'00034_w(Irreg_DIR000_Hs8.5_Tp13.1_U14_SEED10004)_W(NTM_U14.0_SEED10004)\\\\BladedControllerWrapper_20210627.py'"
      ]
     },
     "execution_count": 7,
     "metadata": {},
     "output_type": "execute_result"
    },
    {
     "data": {
      "text/plain": [
       "'00034_w(Irreg_DIR000_Hs8.5_Tp13.1_U14_SEED10004)_W(NTM_U14.0_SEED10004)\\\\Cp_Ct_Cq.IEA15MW.txt'"
      ]
     },
     "execution_count": 7,
     "metadata": {},
     "output_type": "execute_result"
    },
    {
     "data": {
      "text/plain": [
       "'00034_w(Irreg_DIR000_Hs8.5_Tp13.1_U14_SEED10004)_W(NTM_U14.0_SEED10004)\\\\DISCON-UMaineSemi.IN'"
      ]
     },
     "execution_count": 7,
     "metadata": {},
     "output_type": "execute_result"
    },
    {
     "data": {
      "text/plain": [
       "'00034_w(Irreg_DIR000_Hs8.5_Tp13.1_U14_SEED10004)_W(NTM_U14.0_SEED10004)\\\\Floater_20210215_1.GDF'"
      ]
     },
     "execution_count": 7,
     "metadata": {},
     "output_type": "execute_result"
    },
    {
     "data": {
      "text/plain": [
       "'00034_w(Irreg_DIR000_Hs8.5_Tp13.1_U14_SEED10004)_W(NTM_U14.0_SEED10004)\\\\libdiscon.dll'"
      ]
     },
     "execution_count": 7,
     "metadata": {},
     "output_type": "execute_result"
    },
    {
     "data": {
      "text/plain": [
       "'00035_w(Irreg_DIR000_Hs8.5_Tp13.1_U14_SEED10005)_W(NTM_U14.0_SEED10005)\\\\BladedControllerWrapper_20210627.py'"
      ]
     },
     "execution_count": 7,
     "metadata": {},
     "output_type": "execute_result"
    },
    {
     "data": {
      "text/plain": [
       "'00035_w(Irreg_DIR000_Hs8.5_Tp13.1_U14_SEED10005)_W(NTM_U14.0_SEED10005)\\\\Cp_Ct_Cq.IEA15MW.txt'"
      ]
     },
     "execution_count": 7,
     "metadata": {},
     "output_type": "execute_result"
    },
    {
     "data": {
      "text/plain": [
       "'00035_w(Irreg_DIR000_Hs8.5_Tp13.1_U14_SEED10005)_W(NTM_U14.0_SEED10005)\\\\DISCON-UMaineSemi.IN'"
      ]
     },
     "execution_count": 7,
     "metadata": {},
     "output_type": "execute_result"
    },
    {
     "data": {
      "text/plain": [
       "'00035_w(Irreg_DIR000_Hs8.5_Tp13.1_U14_SEED10005)_W(NTM_U14.0_SEED10005)\\\\Floater_20210215_1.GDF'"
      ]
     },
     "execution_count": 7,
     "metadata": {},
     "output_type": "execute_result"
    },
    {
     "data": {
      "text/plain": [
       "'00035_w(Irreg_DIR000_Hs8.5_Tp13.1_U14_SEED10005)_W(NTM_U14.0_SEED10005)\\\\libdiscon.dll'"
      ]
     },
     "execution_count": 7,
     "metadata": {},
     "output_type": "execute_result"
    },
    {
     "data": {
      "text/plain": [
       "'00036_w(Irreg_DIR000_Hs8.5_Tp13.1_U14_SEED10006)_W(NTM_U14.0_SEED10006)\\\\BladedControllerWrapper_20210627.py'"
      ]
     },
     "execution_count": 7,
     "metadata": {},
     "output_type": "execute_result"
    },
    {
     "data": {
      "text/plain": [
       "'00036_w(Irreg_DIR000_Hs8.5_Tp13.1_U14_SEED10006)_W(NTM_U14.0_SEED10006)\\\\Cp_Ct_Cq.IEA15MW.txt'"
      ]
     },
     "execution_count": 7,
     "metadata": {},
     "output_type": "execute_result"
    },
    {
     "data": {
      "text/plain": [
       "'00036_w(Irreg_DIR000_Hs8.5_Tp13.1_U14_SEED10006)_W(NTM_U14.0_SEED10006)\\\\DISCON-UMaineSemi.IN'"
      ]
     },
     "execution_count": 7,
     "metadata": {},
     "output_type": "execute_result"
    },
    {
     "data": {
      "text/plain": [
       "'00036_w(Irreg_DIR000_Hs8.5_Tp13.1_U14_SEED10006)_W(NTM_U14.0_SEED10006)\\\\Floater_20210215_1.GDF'"
      ]
     },
     "execution_count": 7,
     "metadata": {},
     "output_type": "execute_result"
    },
    {
     "data": {
      "text/plain": [
       "'00036_w(Irreg_DIR000_Hs8.5_Tp13.1_U14_SEED10006)_W(NTM_U14.0_SEED10006)\\\\libdiscon.dll'"
      ]
     },
     "execution_count": 7,
     "metadata": {},
     "output_type": "execute_result"
    },
    {
     "data": {
      "text/plain": [
       "'00037_w(Irreg_DIR000_Hs9.8_Tp14.1_U16_SEED10001)_W(NTM_U16.0_SEED10001)\\\\BladedControllerWrapper_20210627.py'"
      ]
     },
     "execution_count": 7,
     "metadata": {},
     "output_type": "execute_result"
    },
    {
     "data": {
      "text/plain": [
       "'00037_w(Irreg_DIR000_Hs9.8_Tp14.1_U16_SEED10001)_W(NTM_U16.0_SEED10001)\\\\Cp_Ct_Cq.IEA15MW.txt'"
      ]
     },
     "execution_count": 7,
     "metadata": {},
     "output_type": "execute_result"
    },
    {
     "data": {
      "text/plain": [
       "'00037_w(Irreg_DIR000_Hs9.8_Tp14.1_U16_SEED10001)_W(NTM_U16.0_SEED10001)\\\\DISCON-UMaineSemi.IN'"
      ]
     },
     "execution_count": 7,
     "metadata": {},
     "output_type": "execute_result"
    },
    {
     "data": {
      "text/plain": [
       "'00037_w(Irreg_DIR000_Hs9.8_Tp14.1_U16_SEED10001)_W(NTM_U16.0_SEED10001)\\\\Floater_20210215_1.GDF'"
      ]
     },
     "execution_count": 7,
     "metadata": {},
     "output_type": "execute_result"
    },
    {
     "data": {
      "text/plain": [
       "'00037_w(Irreg_DIR000_Hs9.8_Tp14.1_U16_SEED10001)_W(NTM_U16.0_SEED10001)\\\\libdiscon.dll'"
      ]
     },
     "execution_count": 7,
     "metadata": {},
     "output_type": "execute_result"
    },
    {
     "data": {
      "text/plain": [
       "'00038_w(Irreg_DIR000_Hs9.8_Tp14.1_U16_SEED10002)_W(NTM_U16.0_SEED10002)\\\\BladedControllerWrapper_20210627.py'"
      ]
     },
     "execution_count": 7,
     "metadata": {},
     "output_type": "execute_result"
    },
    {
     "data": {
      "text/plain": [
       "'00038_w(Irreg_DIR000_Hs9.8_Tp14.1_U16_SEED10002)_W(NTM_U16.0_SEED10002)\\\\Cp_Ct_Cq.IEA15MW.txt'"
      ]
     },
     "execution_count": 7,
     "metadata": {},
     "output_type": "execute_result"
    },
    {
     "data": {
      "text/plain": [
       "'00038_w(Irreg_DIR000_Hs9.8_Tp14.1_U16_SEED10002)_W(NTM_U16.0_SEED10002)\\\\DISCON-UMaineSemi.IN'"
      ]
     },
     "execution_count": 7,
     "metadata": {},
     "output_type": "execute_result"
    },
    {
     "data": {
      "text/plain": [
       "'00038_w(Irreg_DIR000_Hs9.8_Tp14.1_U16_SEED10002)_W(NTM_U16.0_SEED10002)\\\\Floater_20210215_1.GDF'"
      ]
     },
     "execution_count": 7,
     "metadata": {},
     "output_type": "execute_result"
    },
    {
     "data": {
      "text/plain": [
       "'00038_w(Irreg_DIR000_Hs9.8_Tp14.1_U16_SEED10002)_W(NTM_U16.0_SEED10002)\\\\libdiscon.dll'"
      ]
     },
     "execution_count": 7,
     "metadata": {},
     "output_type": "execute_result"
    },
    {
     "data": {
      "text/plain": [
       "'00039_w(Irreg_DIR000_Hs9.8_Tp14.1_U16_SEED10003)_W(NTM_U16.0_SEED10003)\\\\BladedControllerWrapper_20210627.py'"
      ]
     },
     "execution_count": 7,
     "metadata": {},
     "output_type": "execute_result"
    },
    {
     "data": {
      "text/plain": [
       "'00039_w(Irreg_DIR000_Hs9.8_Tp14.1_U16_SEED10003)_W(NTM_U16.0_SEED10003)\\\\Cp_Ct_Cq.IEA15MW.txt'"
      ]
     },
     "execution_count": 7,
     "metadata": {},
     "output_type": "execute_result"
    },
    {
     "data": {
      "text/plain": [
       "'00039_w(Irreg_DIR000_Hs9.8_Tp14.1_U16_SEED10003)_W(NTM_U16.0_SEED10003)\\\\DISCON-UMaineSemi.IN'"
      ]
     },
     "execution_count": 7,
     "metadata": {},
     "output_type": "execute_result"
    },
    {
     "data": {
      "text/plain": [
       "'00039_w(Irreg_DIR000_Hs9.8_Tp14.1_U16_SEED10003)_W(NTM_U16.0_SEED10003)\\\\Floater_20210215_1.GDF'"
      ]
     },
     "execution_count": 7,
     "metadata": {},
     "output_type": "execute_result"
    },
    {
     "data": {
      "text/plain": [
       "'00039_w(Irreg_DIR000_Hs9.8_Tp14.1_U16_SEED10003)_W(NTM_U16.0_SEED10003)\\\\libdiscon.dll'"
      ]
     },
     "execution_count": 7,
     "metadata": {},
     "output_type": "execute_result"
    },
    {
     "data": {
      "text/plain": [
       "'00040_w(Irreg_DIR000_Hs9.8_Tp14.1_U16_SEED10004)_W(NTM_U16.0_SEED10004)\\\\BladedControllerWrapper_20210627.py'"
      ]
     },
     "execution_count": 7,
     "metadata": {},
     "output_type": "execute_result"
    },
    {
     "data": {
      "text/plain": [
       "'00040_w(Irreg_DIR000_Hs9.8_Tp14.1_U16_SEED10004)_W(NTM_U16.0_SEED10004)\\\\Cp_Ct_Cq.IEA15MW.txt'"
      ]
     },
     "execution_count": 7,
     "metadata": {},
     "output_type": "execute_result"
    },
    {
     "data": {
      "text/plain": [
       "'00040_w(Irreg_DIR000_Hs9.8_Tp14.1_U16_SEED10004)_W(NTM_U16.0_SEED10004)\\\\DISCON-UMaineSemi.IN'"
      ]
     },
     "execution_count": 7,
     "metadata": {},
     "output_type": "execute_result"
    },
    {
     "data": {
      "text/plain": [
       "'00040_w(Irreg_DIR000_Hs9.8_Tp14.1_U16_SEED10004)_W(NTM_U16.0_SEED10004)\\\\Floater_20210215_1.GDF'"
      ]
     },
     "execution_count": 7,
     "metadata": {},
     "output_type": "execute_result"
    },
    {
     "data": {
      "text/plain": [
       "'00040_w(Irreg_DIR000_Hs9.8_Tp14.1_U16_SEED10004)_W(NTM_U16.0_SEED10004)\\\\libdiscon.dll'"
      ]
     },
     "execution_count": 7,
     "metadata": {},
     "output_type": "execute_result"
    },
    {
     "data": {
      "text/plain": [
       "'00041_w(Irreg_DIR000_Hs9.8_Tp14.1_U16_SEED10005)_W(NTM_U16.0_SEED10005)\\\\BladedControllerWrapper_20210627.py'"
      ]
     },
     "execution_count": 7,
     "metadata": {},
     "output_type": "execute_result"
    },
    {
     "data": {
      "text/plain": [
       "'00041_w(Irreg_DIR000_Hs9.8_Tp14.1_U16_SEED10005)_W(NTM_U16.0_SEED10005)\\\\Cp_Ct_Cq.IEA15MW.txt'"
      ]
     },
     "execution_count": 7,
     "metadata": {},
     "output_type": "execute_result"
    },
    {
     "data": {
      "text/plain": [
       "'00041_w(Irreg_DIR000_Hs9.8_Tp14.1_U16_SEED10005)_W(NTM_U16.0_SEED10005)\\\\DISCON-UMaineSemi.IN'"
      ]
     },
     "execution_count": 7,
     "metadata": {},
     "output_type": "execute_result"
    },
    {
     "data": {
      "text/plain": [
       "'00041_w(Irreg_DIR000_Hs9.8_Tp14.1_U16_SEED10005)_W(NTM_U16.0_SEED10005)\\\\Floater_20210215_1.GDF'"
      ]
     },
     "execution_count": 7,
     "metadata": {},
     "output_type": "execute_result"
    },
    {
     "data": {
      "text/plain": [
       "'00041_w(Irreg_DIR000_Hs9.8_Tp14.1_U16_SEED10005)_W(NTM_U16.0_SEED10005)\\\\libdiscon.dll'"
      ]
     },
     "execution_count": 7,
     "metadata": {},
     "output_type": "execute_result"
    },
    {
     "data": {
      "text/plain": [
       "'00042_w(Irreg_DIR000_Hs9.8_Tp14.1_U16_SEED10006)_W(NTM_U16.0_SEED10006)\\\\BladedControllerWrapper_20210627.py'"
      ]
     },
     "execution_count": 7,
     "metadata": {},
     "output_type": "execute_result"
    },
    {
     "data": {
      "text/plain": [
       "'00042_w(Irreg_DIR000_Hs9.8_Tp14.1_U16_SEED10006)_W(NTM_U16.0_SEED10006)\\\\Cp_Ct_Cq.IEA15MW.txt'"
      ]
     },
     "execution_count": 7,
     "metadata": {},
     "output_type": "execute_result"
    },
    {
     "data": {
      "text/plain": [
       "'00042_w(Irreg_DIR000_Hs9.8_Tp14.1_U16_SEED10006)_W(NTM_U16.0_SEED10006)\\\\DISCON-UMaineSemi.IN'"
      ]
     },
     "execution_count": 7,
     "metadata": {},
     "output_type": "execute_result"
    },
    {
     "data": {
      "text/plain": [
       "'00042_w(Irreg_DIR000_Hs9.8_Tp14.1_U16_SEED10006)_W(NTM_U16.0_SEED10006)\\\\Floater_20210215_1.GDF'"
      ]
     },
     "execution_count": 7,
     "metadata": {},
     "output_type": "execute_result"
    },
    {
     "data": {
      "text/plain": [
       "'00042_w(Irreg_DIR000_Hs9.8_Tp14.1_U16_SEED10006)_W(NTM_U16.0_SEED10006)\\\\libdiscon.dll'"
      ]
     },
     "execution_count": 7,
     "metadata": {},
     "output_type": "execute_result"
    },
    {
     "data": {
      "text/plain": [
       "'00043_w(Irreg_DIR000_Hs9.8_Tp14.1_U18_SEED10001)_W(NTM_U18.0_SEED10001)\\\\BladedControllerWrapper_20210627.py'"
      ]
     },
     "execution_count": 7,
     "metadata": {},
     "output_type": "execute_result"
    },
    {
     "data": {
      "text/plain": [
       "'00043_w(Irreg_DIR000_Hs9.8_Tp14.1_U18_SEED10001)_W(NTM_U18.0_SEED10001)\\\\Cp_Ct_Cq.IEA15MW.txt'"
      ]
     },
     "execution_count": 7,
     "metadata": {},
     "output_type": "execute_result"
    },
    {
     "data": {
      "text/plain": [
       "'00043_w(Irreg_DIR000_Hs9.8_Tp14.1_U18_SEED10001)_W(NTM_U18.0_SEED10001)\\\\DISCON-UMaineSemi.IN'"
      ]
     },
     "execution_count": 7,
     "metadata": {},
     "output_type": "execute_result"
    },
    {
     "data": {
      "text/plain": [
       "'00043_w(Irreg_DIR000_Hs9.8_Tp14.1_U18_SEED10001)_W(NTM_U18.0_SEED10001)\\\\Floater_20210215_1.GDF'"
      ]
     },
     "execution_count": 7,
     "metadata": {},
     "output_type": "execute_result"
    },
    {
     "data": {
      "text/plain": [
       "'00043_w(Irreg_DIR000_Hs9.8_Tp14.1_U18_SEED10001)_W(NTM_U18.0_SEED10001)\\\\libdiscon.dll'"
      ]
     },
     "execution_count": 7,
     "metadata": {},
     "output_type": "execute_result"
    },
    {
     "data": {
      "text/plain": [
       "'00044_w(Irreg_DIR000_Hs9.8_Tp14.1_U18_SEED10002)_W(NTM_U18.0_SEED10002)\\\\BladedControllerWrapper_20210627.py'"
      ]
     },
     "execution_count": 7,
     "metadata": {},
     "output_type": "execute_result"
    },
    {
     "data": {
      "text/plain": [
       "'00044_w(Irreg_DIR000_Hs9.8_Tp14.1_U18_SEED10002)_W(NTM_U18.0_SEED10002)\\\\Cp_Ct_Cq.IEA15MW.txt'"
      ]
     },
     "execution_count": 7,
     "metadata": {},
     "output_type": "execute_result"
    },
    {
     "data": {
      "text/plain": [
       "'00044_w(Irreg_DIR000_Hs9.8_Tp14.1_U18_SEED10002)_W(NTM_U18.0_SEED10002)\\\\DISCON-UMaineSemi.IN'"
      ]
     },
     "execution_count": 7,
     "metadata": {},
     "output_type": "execute_result"
    },
    {
     "data": {
      "text/plain": [
       "'00044_w(Irreg_DIR000_Hs9.8_Tp14.1_U18_SEED10002)_W(NTM_U18.0_SEED10002)\\\\Floater_20210215_1.GDF'"
      ]
     },
     "execution_count": 7,
     "metadata": {},
     "output_type": "execute_result"
    },
    {
     "data": {
      "text/plain": [
       "'00044_w(Irreg_DIR000_Hs9.8_Tp14.1_U18_SEED10002)_W(NTM_U18.0_SEED10002)\\\\libdiscon.dll'"
      ]
     },
     "execution_count": 7,
     "metadata": {},
     "output_type": "execute_result"
    },
    {
     "data": {
      "text/plain": [
       "'00045_w(Irreg_DIR000_Hs9.8_Tp14.1_U18_SEED10003)_W(NTM_U18.0_SEED10003)\\\\BladedControllerWrapper_20210627.py'"
      ]
     },
     "execution_count": 7,
     "metadata": {},
     "output_type": "execute_result"
    },
    {
     "data": {
      "text/plain": [
       "'00045_w(Irreg_DIR000_Hs9.8_Tp14.1_U18_SEED10003)_W(NTM_U18.0_SEED10003)\\\\Cp_Ct_Cq.IEA15MW.txt'"
      ]
     },
     "execution_count": 7,
     "metadata": {},
     "output_type": "execute_result"
    },
    {
     "data": {
      "text/plain": [
       "'00045_w(Irreg_DIR000_Hs9.8_Tp14.1_U18_SEED10003)_W(NTM_U18.0_SEED10003)\\\\DISCON-UMaineSemi.IN'"
      ]
     },
     "execution_count": 7,
     "metadata": {},
     "output_type": "execute_result"
    },
    {
     "data": {
      "text/plain": [
       "'00045_w(Irreg_DIR000_Hs9.8_Tp14.1_U18_SEED10003)_W(NTM_U18.0_SEED10003)\\\\Floater_20210215_1.GDF'"
      ]
     },
     "execution_count": 7,
     "metadata": {},
     "output_type": "execute_result"
    },
    {
     "data": {
      "text/plain": [
       "'00045_w(Irreg_DIR000_Hs9.8_Tp14.1_U18_SEED10003)_W(NTM_U18.0_SEED10003)\\\\libdiscon.dll'"
      ]
     },
     "execution_count": 7,
     "metadata": {},
     "output_type": "execute_result"
    },
    {
     "data": {
      "text/plain": [
       "'00046_w(Irreg_DIR000_Hs9.8_Tp14.1_U18_SEED10004)_W(NTM_U18.0_SEED10004)\\\\BladedControllerWrapper_20210627.py'"
      ]
     },
     "execution_count": 7,
     "metadata": {},
     "output_type": "execute_result"
    },
    {
     "data": {
      "text/plain": [
       "'00046_w(Irreg_DIR000_Hs9.8_Tp14.1_U18_SEED10004)_W(NTM_U18.0_SEED10004)\\\\Cp_Ct_Cq.IEA15MW.txt'"
      ]
     },
     "execution_count": 7,
     "metadata": {},
     "output_type": "execute_result"
    },
    {
     "data": {
      "text/plain": [
       "'00046_w(Irreg_DIR000_Hs9.8_Tp14.1_U18_SEED10004)_W(NTM_U18.0_SEED10004)\\\\DISCON-UMaineSemi.IN'"
      ]
     },
     "execution_count": 7,
     "metadata": {},
     "output_type": "execute_result"
    },
    {
     "data": {
      "text/plain": [
       "'00046_w(Irreg_DIR000_Hs9.8_Tp14.1_U18_SEED10004)_W(NTM_U18.0_SEED10004)\\\\Floater_20210215_1.GDF'"
      ]
     },
     "execution_count": 7,
     "metadata": {},
     "output_type": "execute_result"
    },
    {
     "data": {
      "text/plain": [
       "'00046_w(Irreg_DIR000_Hs9.8_Tp14.1_U18_SEED10004)_W(NTM_U18.0_SEED10004)\\\\libdiscon.dll'"
      ]
     },
     "execution_count": 7,
     "metadata": {},
     "output_type": "execute_result"
    },
    {
     "data": {
      "text/plain": [
       "'00047_w(Irreg_DIR000_Hs9.8_Tp14.1_U18_SEED10005)_W(NTM_U18.0_SEED10005)\\\\BladedControllerWrapper_20210627.py'"
      ]
     },
     "execution_count": 7,
     "metadata": {},
     "output_type": "execute_result"
    },
    {
     "data": {
      "text/plain": [
       "'00047_w(Irreg_DIR000_Hs9.8_Tp14.1_U18_SEED10005)_W(NTM_U18.0_SEED10005)\\\\Cp_Ct_Cq.IEA15MW.txt'"
      ]
     },
     "execution_count": 7,
     "metadata": {},
     "output_type": "execute_result"
    },
    {
     "data": {
      "text/plain": [
       "'00047_w(Irreg_DIR000_Hs9.8_Tp14.1_U18_SEED10005)_W(NTM_U18.0_SEED10005)\\\\DISCON-UMaineSemi.IN'"
      ]
     },
     "execution_count": 7,
     "metadata": {},
     "output_type": "execute_result"
    },
    {
     "data": {
      "text/plain": [
       "'00047_w(Irreg_DIR000_Hs9.8_Tp14.1_U18_SEED10005)_W(NTM_U18.0_SEED10005)\\\\Floater_20210215_1.GDF'"
      ]
     },
     "execution_count": 7,
     "metadata": {},
     "output_type": "execute_result"
    },
    {
     "data": {
      "text/plain": [
       "'00047_w(Irreg_DIR000_Hs9.8_Tp14.1_U18_SEED10005)_W(NTM_U18.0_SEED10005)\\\\libdiscon.dll'"
      ]
     },
     "execution_count": 7,
     "metadata": {},
     "output_type": "execute_result"
    },
    {
     "data": {
      "text/plain": [
       "'00048_w(Irreg_DIR000_Hs9.8_Tp14.1_U18_SEED10006)_W(NTM_U18.0_SEED10006)\\\\BladedControllerWrapper_20210627.py'"
      ]
     },
     "execution_count": 7,
     "metadata": {},
     "output_type": "execute_result"
    },
    {
     "data": {
      "text/plain": [
       "'00048_w(Irreg_DIR000_Hs9.8_Tp14.1_U18_SEED10006)_W(NTM_U18.0_SEED10006)\\\\Cp_Ct_Cq.IEA15MW.txt'"
      ]
     },
     "execution_count": 7,
     "metadata": {},
     "output_type": "execute_result"
    },
    {
     "data": {
      "text/plain": [
       "'00048_w(Irreg_DIR000_Hs9.8_Tp14.1_U18_SEED10006)_W(NTM_U18.0_SEED10006)\\\\DISCON-UMaineSemi.IN'"
      ]
     },
     "execution_count": 7,
     "metadata": {},
     "output_type": "execute_result"
    },
    {
     "data": {
      "text/plain": [
       "'00048_w(Irreg_DIR000_Hs9.8_Tp14.1_U18_SEED10006)_W(NTM_U18.0_SEED10006)\\\\Floater_20210215_1.GDF'"
      ]
     },
     "execution_count": 7,
     "metadata": {},
     "output_type": "execute_result"
    },
    {
     "data": {
      "text/plain": [
       "'00048_w(Irreg_DIR000_Hs9.8_Tp14.1_U18_SEED10006)_W(NTM_U18.0_SEED10006)\\\\libdiscon.dll'"
      ]
     },
     "execution_count": 7,
     "metadata": {},
     "output_type": "execute_result"
    },
    {
     "data": {
      "text/plain": [
       "'00049_w(Irreg_DIR000_Hs9.8_Tp14.1_U20_SEED10001)_W(NTM_U20.0_SEED10001)\\\\BladedControllerWrapper_20210627.py'"
      ]
     },
     "execution_count": 7,
     "metadata": {},
     "output_type": "execute_result"
    },
    {
     "data": {
      "text/plain": [
       "'00049_w(Irreg_DIR000_Hs9.8_Tp14.1_U20_SEED10001)_W(NTM_U20.0_SEED10001)\\\\Cp_Ct_Cq.IEA15MW.txt'"
      ]
     },
     "execution_count": 7,
     "metadata": {},
     "output_type": "execute_result"
    },
    {
     "data": {
      "text/plain": [
       "'00049_w(Irreg_DIR000_Hs9.8_Tp14.1_U20_SEED10001)_W(NTM_U20.0_SEED10001)\\\\DISCON-UMaineSemi.IN'"
      ]
     },
     "execution_count": 7,
     "metadata": {},
     "output_type": "execute_result"
    },
    {
     "data": {
      "text/plain": [
       "'00049_w(Irreg_DIR000_Hs9.8_Tp14.1_U20_SEED10001)_W(NTM_U20.0_SEED10001)\\\\Floater_20210215_1.GDF'"
      ]
     },
     "execution_count": 7,
     "metadata": {},
     "output_type": "execute_result"
    },
    {
     "data": {
      "text/plain": [
       "'00049_w(Irreg_DIR000_Hs9.8_Tp14.1_U20_SEED10001)_W(NTM_U20.0_SEED10001)\\\\libdiscon.dll'"
      ]
     },
     "execution_count": 7,
     "metadata": {},
     "output_type": "execute_result"
    },
    {
     "data": {
      "text/plain": [
       "'00050_w(Irreg_DIR000_Hs9.8_Tp14.1_U20_SEED10002)_W(NTM_U20.0_SEED10002)\\\\BladedControllerWrapper_20210627.py'"
      ]
     },
     "execution_count": 7,
     "metadata": {},
     "output_type": "execute_result"
    },
    {
     "data": {
      "text/plain": [
       "'00050_w(Irreg_DIR000_Hs9.8_Tp14.1_U20_SEED10002)_W(NTM_U20.0_SEED10002)\\\\Cp_Ct_Cq.IEA15MW.txt'"
      ]
     },
     "execution_count": 7,
     "metadata": {},
     "output_type": "execute_result"
    },
    {
     "data": {
      "text/plain": [
       "'00050_w(Irreg_DIR000_Hs9.8_Tp14.1_U20_SEED10002)_W(NTM_U20.0_SEED10002)\\\\DISCON-UMaineSemi.IN'"
      ]
     },
     "execution_count": 7,
     "metadata": {},
     "output_type": "execute_result"
    },
    {
     "data": {
      "text/plain": [
       "'00050_w(Irreg_DIR000_Hs9.8_Tp14.1_U20_SEED10002)_W(NTM_U20.0_SEED10002)\\\\Floater_20210215_1.GDF'"
      ]
     },
     "execution_count": 7,
     "metadata": {},
     "output_type": "execute_result"
    },
    {
     "data": {
      "text/plain": [
       "'00050_w(Irreg_DIR000_Hs9.8_Tp14.1_U20_SEED10002)_W(NTM_U20.0_SEED10002)\\\\libdiscon.dll'"
      ]
     },
     "execution_count": 7,
     "metadata": {},
     "output_type": "execute_result"
    },
    {
     "data": {
      "text/plain": [
       "'00051_w(Irreg_DIR000_Hs9.8_Tp14.1_U20_SEED10003)_W(NTM_U20.0_SEED10003)\\\\BladedControllerWrapper_20210627.py'"
      ]
     },
     "execution_count": 7,
     "metadata": {},
     "output_type": "execute_result"
    },
    {
     "data": {
      "text/plain": [
       "'00051_w(Irreg_DIR000_Hs9.8_Tp14.1_U20_SEED10003)_W(NTM_U20.0_SEED10003)\\\\Cp_Ct_Cq.IEA15MW.txt'"
      ]
     },
     "execution_count": 7,
     "metadata": {},
     "output_type": "execute_result"
    },
    {
     "data": {
      "text/plain": [
       "'00051_w(Irreg_DIR000_Hs9.8_Tp14.1_U20_SEED10003)_W(NTM_U20.0_SEED10003)\\\\DISCON-UMaineSemi.IN'"
      ]
     },
     "execution_count": 7,
     "metadata": {},
     "output_type": "execute_result"
    },
    {
     "data": {
      "text/plain": [
       "'00051_w(Irreg_DIR000_Hs9.8_Tp14.1_U20_SEED10003)_W(NTM_U20.0_SEED10003)\\\\Floater_20210215_1.GDF'"
      ]
     },
     "execution_count": 7,
     "metadata": {},
     "output_type": "execute_result"
    },
    {
     "data": {
      "text/plain": [
       "'00051_w(Irreg_DIR000_Hs9.8_Tp14.1_U20_SEED10003)_W(NTM_U20.0_SEED10003)\\\\libdiscon.dll'"
      ]
     },
     "execution_count": 7,
     "metadata": {},
     "output_type": "execute_result"
    },
    {
     "data": {
      "text/plain": [
       "'00052_w(Irreg_DIR000_Hs9.8_Tp14.1_U20_SEED10004)_W(NTM_U20.0_SEED10004)\\\\BladedControllerWrapper_20210627.py'"
      ]
     },
     "execution_count": 7,
     "metadata": {},
     "output_type": "execute_result"
    },
    {
     "data": {
      "text/plain": [
       "'00052_w(Irreg_DIR000_Hs9.8_Tp14.1_U20_SEED10004)_W(NTM_U20.0_SEED10004)\\\\Cp_Ct_Cq.IEA15MW.txt'"
      ]
     },
     "execution_count": 7,
     "metadata": {},
     "output_type": "execute_result"
    },
    {
     "data": {
      "text/plain": [
       "'00052_w(Irreg_DIR000_Hs9.8_Tp14.1_U20_SEED10004)_W(NTM_U20.0_SEED10004)\\\\DISCON-UMaineSemi.IN'"
      ]
     },
     "execution_count": 7,
     "metadata": {},
     "output_type": "execute_result"
    },
    {
     "data": {
      "text/plain": [
       "'00052_w(Irreg_DIR000_Hs9.8_Tp14.1_U20_SEED10004)_W(NTM_U20.0_SEED10004)\\\\Floater_20210215_1.GDF'"
      ]
     },
     "execution_count": 7,
     "metadata": {},
     "output_type": "execute_result"
    },
    {
     "data": {
      "text/plain": [
       "'00052_w(Irreg_DIR000_Hs9.8_Tp14.1_U20_SEED10004)_W(NTM_U20.0_SEED10004)\\\\libdiscon.dll'"
      ]
     },
     "execution_count": 7,
     "metadata": {},
     "output_type": "execute_result"
    },
    {
     "data": {
      "text/plain": [
       "'00053_w(Irreg_DIR000_Hs9.8_Tp14.1_U20_SEED10005)_W(NTM_U20.0_SEED10005)\\\\BladedControllerWrapper_20210627.py'"
      ]
     },
     "execution_count": 7,
     "metadata": {},
     "output_type": "execute_result"
    },
    {
     "data": {
      "text/plain": [
       "'00053_w(Irreg_DIR000_Hs9.8_Tp14.1_U20_SEED10005)_W(NTM_U20.0_SEED10005)\\\\Cp_Ct_Cq.IEA15MW.txt'"
      ]
     },
     "execution_count": 7,
     "metadata": {},
     "output_type": "execute_result"
    },
    {
     "data": {
      "text/plain": [
       "'00053_w(Irreg_DIR000_Hs9.8_Tp14.1_U20_SEED10005)_W(NTM_U20.0_SEED10005)\\\\DISCON-UMaineSemi.IN'"
      ]
     },
     "execution_count": 7,
     "metadata": {},
     "output_type": "execute_result"
    },
    {
     "data": {
      "text/plain": [
       "'00053_w(Irreg_DIR000_Hs9.8_Tp14.1_U20_SEED10005)_W(NTM_U20.0_SEED10005)\\\\Floater_20210215_1.GDF'"
      ]
     },
     "execution_count": 7,
     "metadata": {},
     "output_type": "execute_result"
    },
    {
     "data": {
      "text/plain": [
       "'00053_w(Irreg_DIR000_Hs9.8_Tp14.1_U20_SEED10005)_W(NTM_U20.0_SEED10005)\\\\libdiscon.dll'"
      ]
     },
     "execution_count": 7,
     "metadata": {},
     "output_type": "execute_result"
    },
    {
     "data": {
      "text/plain": [
       "'00054_w(Irreg_DIR000_Hs9.8_Tp14.1_U20_SEED10006)_W(NTM_U20.0_SEED10006)\\\\BladedControllerWrapper_20210627.py'"
      ]
     },
     "execution_count": 7,
     "metadata": {},
     "output_type": "execute_result"
    },
    {
     "data": {
      "text/plain": [
       "'00054_w(Irreg_DIR000_Hs9.8_Tp14.1_U20_SEED10006)_W(NTM_U20.0_SEED10006)\\\\Cp_Ct_Cq.IEA15MW.txt'"
      ]
     },
     "execution_count": 7,
     "metadata": {},
     "output_type": "execute_result"
    },
    {
     "data": {
      "text/plain": [
       "'00054_w(Irreg_DIR000_Hs9.8_Tp14.1_U20_SEED10006)_W(NTM_U20.0_SEED10006)\\\\DISCON-UMaineSemi.IN'"
      ]
     },
     "execution_count": 7,
     "metadata": {},
     "output_type": "execute_result"
    },
    {
     "data": {
      "text/plain": [
       "'00054_w(Irreg_DIR000_Hs9.8_Tp14.1_U20_SEED10006)_W(NTM_U20.0_SEED10006)\\\\Floater_20210215_1.GDF'"
      ]
     },
     "execution_count": 7,
     "metadata": {},
     "output_type": "execute_result"
    },
    {
     "data": {
      "text/plain": [
       "'00054_w(Irreg_DIR000_Hs9.8_Tp14.1_U20_SEED10006)_W(NTM_U20.0_SEED10006)\\\\libdiscon.dll'"
      ]
     },
     "execution_count": 7,
     "metadata": {},
     "output_type": "execute_result"
    },
    {
     "data": {
      "text/plain": [
       "'00055_w(Irreg_DIR000_Hs9.8_Tp14.1_U22_SEED10001)_W(NTM_U22.0_SEED10001)\\\\BladedControllerWrapper_20210627.py'"
      ]
     },
     "execution_count": 7,
     "metadata": {},
     "output_type": "execute_result"
    },
    {
     "data": {
      "text/plain": [
       "'00055_w(Irreg_DIR000_Hs9.8_Tp14.1_U22_SEED10001)_W(NTM_U22.0_SEED10001)\\\\Cp_Ct_Cq.IEA15MW.txt'"
      ]
     },
     "execution_count": 7,
     "metadata": {},
     "output_type": "execute_result"
    },
    {
     "data": {
      "text/plain": [
       "'00055_w(Irreg_DIR000_Hs9.8_Tp14.1_U22_SEED10001)_W(NTM_U22.0_SEED10001)\\\\DISCON-UMaineSemi.IN'"
      ]
     },
     "execution_count": 7,
     "metadata": {},
     "output_type": "execute_result"
    },
    {
     "data": {
      "text/plain": [
       "'00055_w(Irreg_DIR000_Hs9.8_Tp14.1_U22_SEED10001)_W(NTM_U22.0_SEED10001)\\\\Floater_20210215_1.GDF'"
      ]
     },
     "execution_count": 7,
     "metadata": {},
     "output_type": "execute_result"
    },
    {
     "data": {
      "text/plain": [
       "'00055_w(Irreg_DIR000_Hs9.8_Tp14.1_U22_SEED10001)_W(NTM_U22.0_SEED10001)\\\\libdiscon.dll'"
      ]
     },
     "execution_count": 7,
     "metadata": {},
     "output_type": "execute_result"
    },
    {
     "data": {
      "text/plain": [
       "'00056_w(Irreg_DIR000_Hs9.8_Tp14.1_U22_SEED10002)_W(NTM_U22.0_SEED10002)\\\\BladedControllerWrapper_20210627.py'"
      ]
     },
     "execution_count": 7,
     "metadata": {},
     "output_type": "execute_result"
    },
    {
     "data": {
      "text/plain": [
       "'00056_w(Irreg_DIR000_Hs9.8_Tp14.1_U22_SEED10002)_W(NTM_U22.0_SEED10002)\\\\Cp_Ct_Cq.IEA15MW.txt'"
      ]
     },
     "execution_count": 7,
     "metadata": {},
     "output_type": "execute_result"
    },
    {
     "data": {
      "text/plain": [
       "'00056_w(Irreg_DIR000_Hs9.8_Tp14.1_U22_SEED10002)_W(NTM_U22.0_SEED10002)\\\\DISCON-UMaineSemi.IN'"
      ]
     },
     "execution_count": 7,
     "metadata": {},
     "output_type": "execute_result"
    },
    {
     "data": {
      "text/plain": [
       "'00056_w(Irreg_DIR000_Hs9.8_Tp14.1_U22_SEED10002)_W(NTM_U22.0_SEED10002)\\\\Floater_20210215_1.GDF'"
      ]
     },
     "execution_count": 7,
     "metadata": {},
     "output_type": "execute_result"
    },
    {
     "data": {
      "text/plain": [
       "'00056_w(Irreg_DIR000_Hs9.8_Tp14.1_U22_SEED10002)_W(NTM_U22.0_SEED10002)\\\\libdiscon.dll'"
      ]
     },
     "execution_count": 7,
     "metadata": {},
     "output_type": "execute_result"
    },
    {
     "data": {
      "text/plain": [
       "'00057_w(Irreg_DIR000_Hs9.8_Tp14.1_U22_SEED10003)_W(NTM_U22.0_SEED10003)\\\\BladedControllerWrapper_20210627.py'"
      ]
     },
     "execution_count": 7,
     "metadata": {},
     "output_type": "execute_result"
    },
    {
     "data": {
      "text/plain": [
       "'00057_w(Irreg_DIR000_Hs9.8_Tp14.1_U22_SEED10003)_W(NTM_U22.0_SEED10003)\\\\Cp_Ct_Cq.IEA15MW.txt'"
      ]
     },
     "execution_count": 7,
     "metadata": {},
     "output_type": "execute_result"
    },
    {
     "data": {
      "text/plain": [
       "'00057_w(Irreg_DIR000_Hs9.8_Tp14.1_U22_SEED10003)_W(NTM_U22.0_SEED10003)\\\\DISCON-UMaineSemi.IN'"
      ]
     },
     "execution_count": 7,
     "metadata": {},
     "output_type": "execute_result"
    },
    {
     "data": {
      "text/plain": [
       "'00057_w(Irreg_DIR000_Hs9.8_Tp14.1_U22_SEED10003)_W(NTM_U22.0_SEED10003)\\\\Floater_20210215_1.GDF'"
      ]
     },
     "execution_count": 7,
     "metadata": {},
     "output_type": "execute_result"
    },
    {
     "data": {
      "text/plain": [
       "'00057_w(Irreg_DIR000_Hs9.8_Tp14.1_U22_SEED10003)_W(NTM_U22.0_SEED10003)\\\\libdiscon.dll'"
      ]
     },
     "execution_count": 7,
     "metadata": {},
     "output_type": "execute_result"
    },
    {
     "data": {
      "text/plain": [
       "'00058_w(Irreg_DIR000_Hs9.8_Tp14.1_U22_SEED10004)_W(NTM_U22.0_SEED10004)\\\\BladedControllerWrapper_20210627.py'"
      ]
     },
     "execution_count": 7,
     "metadata": {},
     "output_type": "execute_result"
    },
    {
     "data": {
      "text/plain": [
       "'00058_w(Irreg_DIR000_Hs9.8_Tp14.1_U22_SEED10004)_W(NTM_U22.0_SEED10004)\\\\Cp_Ct_Cq.IEA15MW.txt'"
      ]
     },
     "execution_count": 7,
     "metadata": {},
     "output_type": "execute_result"
    },
    {
     "data": {
      "text/plain": [
       "'00058_w(Irreg_DIR000_Hs9.8_Tp14.1_U22_SEED10004)_W(NTM_U22.0_SEED10004)\\\\DISCON-UMaineSemi.IN'"
      ]
     },
     "execution_count": 7,
     "metadata": {},
     "output_type": "execute_result"
    },
    {
     "data": {
      "text/plain": [
       "'00058_w(Irreg_DIR000_Hs9.8_Tp14.1_U22_SEED10004)_W(NTM_U22.0_SEED10004)\\\\Floater_20210215_1.GDF'"
      ]
     },
     "execution_count": 7,
     "metadata": {},
     "output_type": "execute_result"
    },
    {
     "data": {
      "text/plain": [
       "'00058_w(Irreg_DIR000_Hs9.8_Tp14.1_U22_SEED10004)_W(NTM_U22.0_SEED10004)\\\\libdiscon.dll'"
      ]
     },
     "execution_count": 7,
     "metadata": {},
     "output_type": "execute_result"
    },
    {
     "data": {
      "text/plain": [
       "'00059_w(Irreg_DIR000_Hs9.8_Tp14.1_U22_SEED10005)_W(NTM_U22.0_SEED10005)\\\\BladedControllerWrapper_20210627.py'"
      ]
     },
     "execution_count": 7,
     "metadata": {},
     "output_type": "execute_result"
    },
    {
     "data": {
      "text/plain": [
       "'00059_w(Irreg_DIR000_Hs9.8_Tp14.1_U22_SEED10005)_W(NTM_U22.0_SEED10005)\\\\Cp_Ct_Cq.IEA15MW.txt'"
      ]
     },
     "execution_count": 7,
     "metadata": {},
     "output_type": "execute_result"
    },
    {
     "data": {
      "text/plain": [
       "'00059_w(Irreg_DIR000_Hs9.8_Tp14.1_U22_SEED10005)_W(NTM_U22.0_SEED10005)\\\\DISCON-UMaineSemi.IN'"
      ]
     },
     "execution_count": 7,
     "metadata": {},
     "output_type": "execute_result"
    },
    {
     "data": {
      "text/plain": [
       "'00059_w(Irreg_DIR000_Hs9.8_Tp14.1_U22_SEED10005)_W(NTM_U22.0_SEED10005)\\\\Floater_20210215_1.GDF'"
      ]
     },
     "execution_count": 7,
     "metadata": {},
     "output_type": "execute_result"
    },
    {
     "data": {
      "text/plain": [
       "'00059_w(Irreg_DIR000_Hs9.8_Tp14.1_U22_SEED10005)_W(NTM_U22.0_SEED10005)\\\\libdiscon.dll'"
      ]
     },
     "execution_count": 7,
     "metadata": {},
     "output_type": "execute_result"
    },
    {
     "data": {
      "text/plain": [
       "'00060_w(Irreg_DIR000_Hs9.8_Tp14.1_U22_SEED10006)_W(NTM_U22.0_SEED10006)\\\\BladedControllerWrapper_20210627.py'"
      ]
     },
     "execution_count": 7,
     "metadata": {},
     "output_type": "execute_result"
    },
    {
     "data": {
      "text/plain": [
       "'00060_w(Irreg_DIR000_Hs9.8_Tp14.1_U22_SEED10006)_W(NTM_U22.0_SEED10006)\\\\Cp_Ct_Cq.IEA15MW.txt'"
      ]
     },
     "execution_count": 7,
     "metadata": {},
     "output_type": "execute_result"
    },
    {
     "data": {
      "text/plain": [
       "'00060_w(Irreg_DIR000_Hs9.8_Tp14.1_U22_SEED10006)_W(NTM_U22.0_SEED10006)\\\\DISCON-UMaineSemi.IN'"
      ]
     },
     "execution_count": 7,
     "metadata": {},
     "output_type": "execute_result"
    },
    {
     "data": {
      "text/plain": [
       "'00060_w(Irreg_DIR000_Hs9.8_Tp14.1_U22_SEED10006)_W(NTM_U22.0_SEED10006)\\\\Floater_20210215_1.GDF'"
      ]
     },
     "execution_count": 7,
     "metadata": {},
     "output_type": "execute_result"
    },
    {
     "data": {
      "text/plain": [
       "'00060_w(Irreg_DIR000_Hs9.8_Tp14.1_U22_SEED10006)_W(NTM_U22.0_SEED10006)\\\\libdiscon.dll'"
      ]
     },
     "execution_count": 7,
     "metadata": {},
     "output_type": "execute_result"
    },
    {
     "data": {
      "text/plain": [
       "'00061_w(Irreg_DIR000_Hs9.8_Tp14.1_U24_SEED10001)_W(NTM_U24.0_SEED10001)\\\\BladedControllerWrapper_20210627.py'"
      ]
     },
     "execution_count": 7,
     "metadata": {},
     "output_type": "execute_result"
    },
    {
     "data": {
      "text/plain": [
       "'00061_w(Irreg_DIR000_Hs9.8_Tp14.1_U24_SEED10001)_W(NTM_U24.0_SEED10001)\\\\Cp_Ct_Cq.IEA15MW.txt'"
      ]
     },
     "execution_count": 7,
     "metadata": {},
     "output_type": "execute_result"
    },
    {
     "data": {
      "text/plain": [
       "'00061_w(Irreg_DIR000_Hs9.8_Tp14.1_U24_SEED10001)_W(NTM_U24.0_SEED10001)\\\\DISCON-UMaineSemi.IN'"
      ]
     },
     "execution_count": 7,
     "metadata": {},
     "output_type": "execute_result"
    },
    {
     "data": {
      "text/plain": [
       "'00061_w(Irreg_DIR000_Hs9.8_Tp14.1_U24_SEED10001)_W(NTM_U24.0_SEED10001)\\\\Floater_20210215_1.GDF'"
      ]
     },
     "execution_count": 7,
     "metadata": {},
     "output_type": "execute_result"
    },
    {
     "data": {
      "text/plain": [
       "'00061_w(Irreg_DIR000_Hs9.8_Tp14.1_U24_SEED10001)_W(NTM_U24.0_SEED10001)\\\\libdiscon.dll'"
      ]
     },
     "execution_count": 7,
     "metadata": {},
     "output_type": "execute_result"
    },
    {
     "data": {
      "text/plain": [
       "'00062_w(Irreg_DIR000_Hs9.8_Tp14.1_U24_SEED10002)_W(NTM_U24.0_SEED10002)\\\\BladedControllerWrapper_20210627.py'"
      ]
     },
     "execution_count": 7,
     "metadata": {},
     "output_type": "execute_result"
    },
    {
     "data": {
      "text/plain": [
       "'00062_w(Irreg_DIR000_Hs9.8_Tp14.1_U24_SEED10002)_W(NTM_U24.0_SEED10002)\\\\Cp_Ct_Cq.IEA15MW.txt'"
      ]
     },
     "execution_count": 7,
     "metadata": {},
     "output_type": "execute_result"
    },
    {
     "data": {
      "text/plain": [
       "'00062_w(Irreg_DIR000_Hs9.8_Tp14.1_U24_SEED10002)_W(NTM_U24.0_SEED10002)\\\\DISCON-UMaineSemi.IN'"
      ]
     },
     "execution_count": 7,
     "metadata": {},
     "output_type": "execute_result"
    },
    {
     "data": {
      "text/plain": [
       "'00062_w(Irreg_DIR000_Hs9.8_Tp14.1_U24_SEED10002)_W(NTM_U24.0_SEED10002)\\\\Floater_20210215_1.GDF'"
      ]
     },
     "execution_count": 7,
     "metadata": {},
     "output_type": "execute_result"
    },
    {
     "data": {
      "text/plain": [
       "'00062_w(Irreg_DIR000_Hs9.8_Tp14.1_U24_SEED10002)_W(NTM_U24.0_SEED10002)\\\\libdiscon.dll'"
      ]
     },
     "execution_count": 7,
     "metadata": {},
     "output_type": "execute_result"
    },
    {
     "data": {
      "text/plain": [
       "'00063_w(Irreg_DIR000_Hs9.8_Tp14.1_U24_SEED10003)_W(NTM_U24.0_SEED10003)\\\\BladedControllerWrapper_20210627.py'"
      ]
     },
     "execution_count": 7,
     "metadata": {},
     "output_type": "execute_result"
    },
    {
     "data": {
      "text/plain": [
       "'00063_w(Irreg_DIR000_Hs9.8_Tp14.1_U24_SEED10003)_W(NTM_U24.0_SEED10003)\\\\Cp_Ct_Cq.IEA15MW.txt'"
      ]
     },
     "execution_count": 7,
     "metadata": {},
     "output_type": "execute_result"
    },
    {
     "data": {
      "text/plain": [
       "'00063_w(Irreg_DIR000_Hs9.8_Tp14.1_U24_SEED10003)_W(NTM_U24.0_SEED10003)\\\\DISCON-UMaineSemi.IN'"
      ]
     },
     "execution_count": 7,
     "metadata": {},
     "output_type": "execute_result"
    },
    {
     "data": {
      "text/plain": [
       "'00063_w(Irreg_DIR000_Hs9.8_Tp14.1_U24_SEED10003)_W(NTM_U24.0_SEED10003)\\\\Floater_20210215_1.GDF'"
      ]
     },
     "execution_count": 7,
     "metadata": {},
     "output_type": "execute_result"
    },
    {
     "data": {
      "text/plain": [
       "'00063_w(Irreg_DIR000_Hs9.8_Tp14.1_U24_SEED10003)_W(NTM_U24.0_SEED10003)\\\\libdiscon.dll'"
      ]
     },
     "execution_count": 7,
     "metadata": {},
     "output_type": "execute_result"
    },
    {
     "data": {
      "text/plain": [
       "'00064_w(Irreg_DIR000_Hs9.8_Tp14.1_U24_SEED10004)_W(NTM_U24.0_SEED10004)\\\\BladedControllerWrapper_20210627.py'"
      ]
     },
     "execution_count": 7,
     "metadata": {},
     "output_type": "execute_result"
    },
    {
     "data": {
      "text/plain": [
       "'00064_w(Irreg_DIR000_Hs9.8_Tp14.1_U24_SEED10004)_W(NTM_U24.0_SEED10004)\\\\Cp_Ct_Cq.IEA15MW.txt'"
      ]
     },
     "execution_count": 7,
     "metadata": {},
     "output_type": "execute_result"
    },
    {
     "data": {
      "text/plain": [
       "'00064_w(Irreg_DIR000_Hs9.8_Tp14.1_U24_SEED10004)_W(NTM_U24.0_SEED10004)\\\\DISCON-UMaineSemi.IN'"
      ]
     },
     "execution_count": 7,
     "metadata": {},
     "output_type": "execute_result"
    },
    {
     "data": {
      "text/plain": [
       "'00064_w(Irreg_DIR000_Hs9.8_Tp14.1_U24_SEED10004)_W(NTM_U24.0_SEED10004)\\\\Floater_20210215_1.GDF'"
      ]
     },
     "execution_count": 7,
     "metadata": {},
     "output_type": "execute_result"
    },
    {
     "data": {
      "text/plain": [
       "'00064_w(Irreg_DIR000_Hs9.8_Tp14.1_U24_SEED10004)_W(NTM_U24.0_SEED10004)\\\\libdiscon.dll'"
      ]
     },
     "execution_count": 7,
     "metadata": {},
     "output_type": "execute_result"
    },
    {
     "data": {
      "text/plain": [
       "'00065_w(Irreg_DIR000_Hs9.8_Tp14.1_U24_SEED10005)_W(NTM_U24.0_SEED10005)\\\\BladedControllerWrapper_20210627.py'"
      ]
     },
     "execution_count": 7,
     "metadata": {},
     "output_type": "execute_result"
    },
    {
     "data": {
      "text/plain": [
       "'00065_w(Irreg_DIR000_Hs9.8_Tp14.1_U24_SEED10005)_W(NTM_U24.0_SEED10005)\\\\Cp_Ct_Cq.IEA15MW.txt'"
      ]
     },
     "execution_count": 7,
     "metadata": {},
     "output_type": "execute_result"
    },
    {
     "data": {
      "text/plain": [
       "'00065_w(Irreg_DIR000_Hs9.8_Tp14.1_U24_SEED10005)_W(NTM_U24.0_SEED10005)\\\\DISCON-UMaineSemi.IN'"
      ]
     },
     "execution_count": 7,
     "metadata": {},
     "output_type": "execute_result"
    },
    {
     "data": {
      "text/plain": [
       "'00065_w(Irreg_DIR000_Hs9.8_Tp14.1_U24_SEED10005)_W(NTM_U24.0_SEED10005)\\\\Floater_20210215_1.GDF'"
      ]
     },
     "execution_count": 7,
     "metadata": {},
     "output_type": "execute_result"
    },
    {
     "data": {
      "text/plain": [
       "'00065_w(Irreg_DIR000_Hs9.8_Tp14.1_U24_SEED10005)_W(NTM_U24.0_SEED10005)\\\\libdiscon.dll'"
      ]
     },
     "execution_count": 7,
     "metadata": {},
     "output_type": "execute_result"
    },
    {
     "data": {
      "text/plain": [
       "'00066_w(Irreg_DIR000_Hs9.8_Tp14.1_U24_SEED10006)_W(NTM_U24.0_SEED10006)\\\\BladedControllerWrapper_20210627.py'"
      ]
     },
     "execution_count": 7,
     "metadata": {},
     "output_type": "execute_result"
    },
    {
     "data": {
      "text/plain": [
       "'00066_w(Irreg_DIR000_Hs9.8_Tp14.1_U24_SEED10006)_W(NTM_U24.0_SEED10006)\\\\Cp_Ct_Cq.IEA15MW.txt'"
      ]
     },
     "execution_count": 7,
     "metadata": {},
     "output_type": "execute_result"
    },
    {
     "data": {
      "text/plain": [
       "'00066_w(Irreg_DIR000_Hs9.8_Tp14.1_U24_SEED10006)_W(NTM_U24.0_SEED10006)\\\\DISCON-UMaineSemi.IN'"
      ]
     },
     "execution_count": 7,
     "metadata": {},
     "output_type": "execute_result"
    },
    {
     "data": {
      "text/plain": [
       "'00066_w(Irreg_DIR000_Hs9.8_Tp14.1_U24_SEED10006)_W(NTM_U24.0_SEED10006)\\\\Floater_20210215_1.GDF'"
      ]
     },
     "execution_count": 7,
     "metadata": {},
     "output_type": "execute_result"
    },
    {
     "data": {
      "text/plain": [
       "'00066_w(Irreg_DIR000_Hs9.8_Tp14.1_U24_SEED10006)_W(NTM_U24.0_SEED10006)\\\\libdiscon.dll'"
      ]
     },
     "execution_count": 7,
     "metadata": {},
     "output_type": "execute_result"
    }
   ],
   "source": [
    "# Move files to folders\n",
    "\n",
    "if 1:\n",
    "\n",
    "    dat_file_paths = []\n",
    "\n",
    "    for dat_file in dat_files_list:\n",
    "    \n",
    "        folder_name =  os.path.splitext(dat_file)[0]\n",
    "    \n",
    "        newPath = shutil.copy(dat_file, folder_name)\n",
    "    \n",
    "        dat_file_paths.append(newPath)\n",
    "    \n",
    "        shutil.copy('BladedControllerWrapper_20210627.py', folder_name)\n",
    "        shutil.copy('Cp_Ct_Cq.IEA15MW.txt', folder_name)\n",
    "        shutil.copy('DISCON-UMaineSemi.IN', folder_name)\n",
    "        shutil.copy('Floater_20210215_1.GDF', folder_name)\n",
    "        shutil.copy('libdiscon.dll', folder_name)\n",
    "    \n",
    "    \n",
    "        #print(newPath)\n",
    "    \n",
    "    \n"
   ]
  },
  {
   "cell_type": "code",
   "execution_count": 5,
   "metadata": {},
   "outputs": [],
   "source": [
    "# delete files after copying\n",
    "\n",
    "if 0:\n",
    "    \n",
    "    for dat_file in dat_files_list:\n",
    "\n",
    "        os.remove(dat_file)"
   ]
  },
  {
   "cell_type": "code",
   "execution_count": 6,
   "metadata": {},
   "outputs": [],
   "source": [
    "\n",
    "\n",
    "def worker(file_name, folder):\n",
    "    \n",
    "    print(file_name)\n",
    "    print(folder)\n",
    "    \n",
    "    os.chdir(folder)\n",
    "    \n",
    "    model = OrcFxAPI.Model()\n",
    "\n",
    "    model.LoadData(file_name)\n",
    "\n",
    "    model.RunSimulation()\n",
    "\n",
    "\n",
    "\n",
    "\n",
    "\n",
    "if __name__ == '__main__':\n",
    "    \n",
    "    if 0:\n",
    "\n",
    "        n_threads = 1\n",
    "\n",
    "        pool = multiprocess.Pool(n_threads)\n",
    "        for i in range(12, 66):\n",
    "            pool.apply_async(worker, args = (dat_files_list[i],folders_list[i]))\n",
    "        pool.close()\n",
    "        pool.join()"
   ]
  },
  {
   "cell_type": "code",
   "execution_count": null,
   "metadata": {},
   "outputs": [],
   "source": []
  }
 ],
 "metadata": {
  "kernelspec": {
   "display_name": "Python 3",
   "language": "python",
   "name": "python3"
  },
  "language_info": {
   "codemirror_mode": {
    "name": "ipython",
    "version": 3
   },
   "file_extension": ".py",
   "mimetype": "text/x-python",
   "name": "python",
   "nbconvert_exporter": "python",
   "pygments_lexer": "ipython3",
   "version": "3.8.3"
  }
 },
 "nbformat": 4,
 "nbformat_minor": 4
}
